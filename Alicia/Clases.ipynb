{
 "cells": [
  {
   "cell_type": "markdown",
   "metadata": {},
   "source": [
    "### Clase barco"
   ]
  },
  {
   "cell_type": "code",
   "execution_count": 2,
   "metadata": {},
   "outputs": [],
   "source": [
    "import numpy as np"
   ]
  },
  {
   "cell_type": "code",
   "execution_count": null,
   "metadata": {},
   "outputs": [],
   "source": [
    "class Tablero:\n",
    "\n",
    "    '''\n",
    "    Clase para modelar los tableros del juego\n",
    "\n",
    "    Attributes:\n",
    "        tamaño (numpy.ndarray): tamaño del tablero\n",
    "        \n",
    "    '''\n",
    "    \n",
    "    tamaño = np.full((10,10), \"¨\")\n",
    "    # orejas = 2\n",
    "    # ojos = 2\n",
    "    # velocidad = 0\n",
    "\n",
    "    def __init__(self, eslora, pelo=\"Marrón\", dueño=False):\n",
    "        '''\n",
    "        Args:\n",
    "            raza (str): Raza del perro\n",
    "            pelo (str): Color del pelo\n",
    "            dueño (bool): Indicador de si tiene dueño\n",
    "        '''\n",
    "        self.raza = raza\n",
    "        self.pelo = pelo\n",
    "        self.dueño = dueño\n",
    "\n",
    "    def andar(self, aumento_v):\n",
    "        '''\n",
    "        Hace andar al perro añadiendole una velocidad\n",
    "        \n",
    "        Args:\n",
    "            aumento_v (float): aumento de la velocidad del perro\n",
    "        Returns:\n",
    "            str con la velocidad a la que va el perro\n",
    "        '''\n",
    "        self.velocidad = self.velocidad + aumento_v\n",
    "        return \"Perro andando con velocidad de \" + str(self.velocidad)\n",
    "    \n",
    "    def parar(self):\n",
    "        '''\n",
    "        Hace para al perro con una velocidad por tanto de 0\n",
    "\n",
    "        Returns:\n",
    "            str con la velocidad a la que va el perro de 0\n",
    "        '''\n",
    "        self.velocidad = 0\n",
    "        return \"Perro parado con velocidad de \" + str(self.velocidad)\n",
    "\n",
    "    def ladrar(self, msg):\n",
    "        '''\n",
    "        El perro ladra, con un mensaje\n",
    "\n",
    "        Args:\n",
    "            msg (str): mensaje que ladra el perro\n",
    "        Returns:\n",
    "            str con un ladrido y el mensaje\n",
    "        '''\n",
    "        return \"GUAU! \" + msg\n",
    "\n",
    "\n",
    "\n",
    "\n",
    "\n",
    "\n",
    "\n",
    "\n",
    "\n",
    "\n"
   ]
  }
 ],
 "metadata": {
  "kernelspec": {
   "display_name": "Python 3",
   "language": "python",
   "name": "python3"
  },
  "language_info": {
   "codemirror_mode": {
    "name": "ipython",
    "version": 3
   },
   "file_extension": ".py",
   "mimetype": "text/x-python",
   "name": "python",
   "nbconvert_exporter": "python",
   "pygments_lexer": "ipython3",
   "version": "3.12.1"
  }
 },
 "nbformat": 4,
 "nbformat_minor": 2
}
