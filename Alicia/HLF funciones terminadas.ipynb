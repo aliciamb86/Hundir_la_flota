{
 "cells": [
  {
   "cell_type": "code",
   "execution_count": 1,
   "metadata": {},
   "outputs": [],
   "source": [
    "import numpy as np\n",
    "import random\n",
    "import time"
   ]
  },
  {
   "cell_type": "markdown",
   "metadata": {},
   "source": [
    "# CREAR TABLERO"
   ]
  },
  {
   "cell_type": "code",
   "execution_count": 2,
   "metadata": {},
   "outputs": [],
   "source": [
    "def crear_tablero(tamaño=(10,10)):\n",
    "    tablero = np.full(tamaño, \"·\")\n",
    "    return tablero\n",
    "    "
   ]
  },
  {
   "cell_type": "markdown",
   "metadata": {},
   "source": [
    "# VARIABLES"
   ]
  },
  {
   "cell_type": "code",
   "execution_count": 9,
   "metadata": {},
   "outputs": [],
   "source": [
    "# definimos una lista para los barcos que vamos a colocar en el tablero\n",
    "# y otra lista para los barcos que descartamos porque superposición con otros barcos\n",
    "\n",
    "barcos = []\n",
    "barcos_descartados = []\n",
    "tablero = crear_tablero()\n",
    "\n"
   ]
  },
  {
   "cell_type": "code",
   "execution_count": 4,
   "metadata": {},
   "outputs": [],
   "source": [
    "def crear_barco():\n",
    "    # definimos el tamaño del barco que queremos crear\n",
    "    eslora = int(input('Introduce la eslora del barco que quieres crear'))\n",
    "\n",
    "    # elegimos aleatoriamente el punto de partida desde el que se colocará nuestro barco\n",
    "    fila_a = random.randint(0,9)\n",
    "    columna_a = random.randint(0,9)\n",
    "    \n",
    "    # declaramos como primera posición de nuestro barco los valores obtenidos aleatoriamente\n",
    "    # declaramos nuestro barco, con la ubicación del punto de partida\n",
    "    fila_inicio = fila_a\n",
    "    columna_inicio = columna_a\n",
    "    barco = [(fila_inicio, columna_inicio)]\n",
    "    print(fila_a,columna_a)\n",
    "    \n",
    "    # elegimos aleatoriamente la dirección en la que se posicionará nuestro barco\n",
    "    orientacion = random.choice([\"S\",\"O\",\"E\",\"N\"])\n",
    "    print(orientacion)\n",
    "    while len(barco) < eslora:\n",
    "        match orientacion:\n",
    "            case \"O\":\n",
    "                if columna_a - (eslora - 1) >= 0:\n",
    "                    columna_inicio -= 1 \n",
    "                else:\n",
    "                    orientacion = random.choice([\"S\",\"E\",\"N\"])\n",
    "                    print(orientacion)\n",
    "                    continue\n",
    "            case \"E\":\n",
    "                if columna_a + (eslora - 1) <= 9:\n",
    "                    columna_inicio += 1\n",
    "                else:\n",
    "                    orientacion = random.choice([\"S\",\"O\",\"N\"])\n",
    "                    print(orientacion)\n",
    "                    continue\n",
    "            case \"S\":\n",
    "                if fila_a + (eslora - 1) <= 9:\n",
    "                    fila_inicio += 1\n",
    "                else:\n",
    "                    orientacion = random.choice([\"O\",\"E\",\"N\"])\n",
    "                    print(orientacion)\n",
    "                    continue\n",
    "            case \"N\":\n",
    "                if fila_a - (eslora - 1) >= 0:\n",
    "                    fila_inicio -= 1\n",
    "                else:\n",
    "                    orientacion = random.choice([\"S\",\"O\",\"E\"])\n",
    "                    print(orientacion)\n",
    "                    continue\n",
    "        barco.append((fila_inicio, columna_inicio))\n",
    "    return barco"
   ]
  },
  {
   "cell_type": "code",
   "execution_count": 4,
   "metadata": {},
   "outputs": [],
   "source": [
    "def colocar_barco(barco, tablero):\n",
    "    for casilla in barco:\n",
    "        tablero[casilla] = \"O\"\n",
    "    return tablero"
   ]
  },
  {
   "cell_type": "code",
   "execution_count": 31,
   "metadata": {},
   "outputs": [],
   "source": [
    "def colocar_barcos(barco, tablero):\n",
    "    for casilla in barco:\n",
    "        if tablero[casilla] != \"O\":\n",
    "            if not barco in barcos:\n",
    "                barcos.append(barco)\n",
    "                tablero = colocar_barco(barco, tablero)\n",
    "                print('Barco de ', len(barco), 'de eslora colocado en posicion ', barco, 'orientación', orientacion)\n",
    "                return print(tablero)\n",
    "            else:\n",
    "                print('Ya hay un barco en esa posición, crea otro barco')\n",
    "                return  print(tablero)\n",
    "        else:\n",
    "            print('Ya hay un barco en esa posición, crea otro barco')\n",
    "            return print(tablero)"
   ]
  },
  {
   "cell_type": "markdown",
   "metadata": {},
   "source": [
    "# CREAR BARCOS"
   ]
  },
  {
   "cell_type": "code",
   "execution_count": 1049,
   "metadata": {},
   "outputs": [
    {
     "name": "stdout",
     "output_type": "stream",
     "text": [
      "6 2\n",
      "S\n",
      "N\n",
      "Ya hay un barco en esa posición, crea otro barco\n",
      "[['·' '·' '·' '·' '·' '·' '·' '·' '·' '·']\n",
      " ['·' '·' '·' '·' '·' '·' '·' '·' '·' '·']\n",
      " ['·' '·' '·' '·' '·' '·' '·' '·' '·' '·']\n",
      " ['·' '·' '·' '·' '·' '·' '·' '·' '·' '·']\n",
      " ['·' '·' '·' '·' '·' 'O' '·' '·' '·' '·']\n",
      " ['·' '·' '·' '·' '·' 'O' '·' '·' '·' '·']\n",
      " ['·' '·' '·' '·' '·' 'O' '·' '·' '·' '·']\n",
      " ['·' '·' '·' '·' '·' 'O' '·' '·' 'O' '·']\n",
      " ['·' '·' '·' '·' '·' '·' '·' '·' '·' '·']\n",
      " ['·' '·' '·' '·' '·' '·' '·' '·' '·' '·']]\n"
     ]
    }
   ],
   "source": [
    "while len(barcos) < 10:\n",
    "    crear_barco(eslora, fila_a, columna_a,fila_inicio, columna_inicio, barco, orientacion)\n",
    "    colocar_barcos(barco, tablero)\n",
    "    break"
   ]
  },
  {
   "cell_type": "code",
   "execution_count": 5,
   "metadata": {},
   "outputs": [
    {
     "name": "stdout",
     "output_type": "stream",
     "text": [
      "5 8\n",
      "S\n",
      "[(5, 8), (6, 8), (7, 8), (8, 8)]\n"
     ]
    }
   ],
   "source": [
    "# definimos el tamaño del barco que queremos crear\n",
    "eslora = int(input('Introduce la eslora del barco que quieres crear'))\n",
    "# elegimos aleatoriamente el punto de partida desde el que se colocará nuestro barco\n",
    "fila_a = random.randint(0,9)\n",
    "columna_a = random.randint(0,9)\n",
    "\n",
    "# declaramos como primera posición de nuestro barco los valores obtenidos aleatoriamente\n",
    "# declaramos nuestro barco, con la ubicación del punto de partida\n",
    "fila_inicio = fila_a\n",
    "columna_inicio = columna_a\n",
    "barco = [(fila_inicio, columna_inicio)]\n",
    "print(fila_a,columna_a)\n",
    "\n",
    "# elegimos aleatoriamente la dirección en la que se posicionará nuestro barco\n",
    "orientacion = random.choice([\"S\",\"O\",\"E\",\"N\"])\n",
    "print(orientacion)\n",
    "while len(barco) < eslora:\n",
    "    match orientacion:\n",
    "        case \"O\":\n",
    "            if columna_a - (eslora - 1) >= 0:\n",
    "                columna_inicio -= 1 \n",
    "            else:\n",
    "                orientacion = random.choice([\"S\",\"E\",\"N\"])\n",
    "                print(orientacion)\n",
    "                continue\n",
    "        case \"E\":\n",
    "            if columna_a + (eslora - 1) <= 9:\n",
    "                columna_inicio += 1\n",
    "            else:\n",
    "                orientacion = random.choice([\"S\",\"O\",\"N\"])\n",
    "                print(orientacion)\n",
    "                continue\n",
    "        case \"S\":\n",
    "            if fila_a + (eslora - 1) <= 9:\n",
    "                fila_inicio += 1\n",
    "            else:\n",
    "                orientacion = random.choice([\"O\",\"E\",\"N\"])\n",
    "                print(orientacion)\n",
    "                continue\n",
    "        case \"N\":\n",
    "            if fila_a - (eslora - 1) >= 0:\n",
    "                fila_inicio -= 1\n",
    "            else:\n",
    "                orientacion = random.choice([\"S\",\"O\",\"E\"])\n",
    "                print(orientacion)\n",
    "                continue\n",
    "    barco.append((fila_inicio, columna_inicio))\n",
    "print(barco)\n",
    "\n",
    "\n",
    "\n",
    "\n"
   ]
  },
  {
   "cell_type": "code",
   "execution_count": 6,
   "metadata": {},
   "outputs": [
    {
     "name": "stdout",
     "output_type": "stream",
     "text": [
      "Barco de  4 de eslora colocado en posicion  [(5, 8), (6, 8), (7, 8), (8, 8)] orientación S\n",
      "[['·' '·' '·' '·' '·' '·' '·' '·' '·' '·']\n",
      " ['·' '·' '·' '·' '·' '·' '·' '·' '·' '·']\n",
      " ['·' '·' '·' '·' '·' '·' '·' '·' '·' '·']\n",
      " ['·' '·' '·' '·' '·' '·' '·' '·' '·' '·']\n",
      " ['·' '·' '·' '·' '·' '·' '·' '·' '·' '·']\n",
      " ['·' '·' '·' '·' '·' '·' '·' '·' 'O' '·']\n",
      " ['·' '·' '·' '·' '·' '·' '·' '·' 'O' '·']\n",
      " ['·' '·' '·' '·' '·' '·' '·' '·' 'O' '·']\n",
      " ['·' '·' '·' '·' '·' '·' '·' '·' 'O' '·']\n",
      " ['·' '·' '·' '·' '·' '·' '·' '·' '·' '·']]\n",
      "Ya hay un barco en esa posición, crea otro barco\n",
      "[['·' '·' '·' '·' '·' '·' '·' '·' '·' '·']\n",
      " ['·' '·' '·' '·' '·' '·' '·' '·' '·' '·']\n",
      " ['·' '·' '·' '·' '·' '·' '·' '·' '·' '·']\n",
      " ['·' '·' '·' '·' '·' '·' '·' '·' '·' '·']\n",
      " ['·' '·' '·' '·' '·' '·' '·' '·' '·' '·']\n",
      " ['·' '·' '·' '·' '·' '·' '·' '·' 'O' '·']\n",
      " ['·' '·' '·' '·' '·' '·' '·' '·' 'O' '·']\n",
      " ['·' '·' '·' '·' '·' '·' '·' '·' 'O' '·']\n",
      " ['·' '·' '·' '·' '·' '·' '·' '·' 'O' '·']\n",
      " ['·' '·' '·' '·' '·' '·' '·' '·' '·' '·']]\n",
      "Ya hay un barco en esa posición, crea otro barco\n",
      "[['·' '·' '·' '·' '·' '·' '·' '·' '·' '·']\n",
      " ['·' '·' '·' '·' '·' '·' '·' '·' '·' '·']\n",
      " ['·' '·' '·' '·' '·' '·' '·' '·' '·' '·']\n",
      " ['·' '·' '·' '·' '·' '·' '·' '·' '·' '·']\n",
      " ['·' '·' '·' '·' '·' '·' '·' '·' '·' '·']\n",
      " ['·' '·' '·' '·' '·' '·' '·' '·' 'O' '·']\n",
      " ['·' '·' '·' '·' '·' '·' '·' '·' 'O' '·']\n",
      " ['·' '·' '·' '·' '·' '·' '·' '·' 'O' '·']\n",
      " ['·' '·' '·' '·' '·' '·' '·' '·' 'O' '·']\n",
      " ['·' '·' '·' '·' '·' '·' '·' '·' '·' '·']]\n",
      "Ya hay un barco en esa posición, crea otro barco\n",
      "[['·' '·' '·' '·' '·' '·' '·' '·' '·' '·']\n",
      " ['·' '·' '·' '·' '·' '·' '·' '·' '·' '·']\n",
      " ['·' '·' '·' '·' '·' '·' '·' '·' '·' '·']\n",
      " ['·' '·' '·' '·' '·' '·' '·' '·' '·' '·']\n",
      " ['·' '·' '·' '·' '·' '·' '·' '·' '·' '·']\n",
      " ['·' '·' '·' '·' '·' '·' '·' '·' 'O' '·']\n",
      " ['·' '·' '·' '·' '·' '·' '·' '·' 'O' '·']\n",
      " ['·' '·' '·' '·' '·' '·' '·' '·' 'O' '·']\n",
      " ['·' '·' '·' '·' '·' '·' '·' '·' 'O' '·']\n",
      " ['·' '·' '·' '·' '·' '·' '·' '·' '·' '·']]\n"
     ]
    }
   ],
   "source": [
    "for casilla in barco:\n",
    "    if tablero[casilla] != \"O\":\n",
    "        if not barco in barcos:\n",
    "            barcos.append(barco)\n",
    "            tablero = colocar_barco(barco, tablero)\n",
    "            print('Barco de ', len(barco), 'de eslora colocado en posicion ', barco, 'orientación', orientacion)\n",
    "            print(tablero)\n",
    "        else:\n",
    "            print('Ya hay un barco en esa posición, crea otro barco')\n",
    "            print(tablero)\n",
    "    else:\n",
    "        print('Ya hay un barco en esa posición, crea otro barco')\n",
    "        print(tablero)"
   ]
  },
  {
   "cell_type": "code",
   "execution_count": 16,
   "metadata": {},
   "outputs": [
    {
     "name": "stdout",
     "output_type": "stream",
     "text": [
      "4 6\n",
      "N\n",
      "Ya hay un barco en esa posición, crea otro barco\n",
      "[['·' '·' '·' '·' '·' '·' 'O' '·' '·' '·']\n",
      " ['·' '·' 'O' '·' 'O' 'O' 'O' '·' '·' '·']\n",
      " ['·' '·' 'O' '·' 'O' 'O' 'O' '·' '·' '·']\n",
      " ['·' '·' '·' '·' 'O' '·' '·' '·' '·' '·']\n",
      " ['·' '·' '·' '·' 'O' '·' 'O' '·' '·' '·']\n",
      " ['O' 'O' 'O' '·' 'O' '·' 'O' '·' '·' '·']\n",
      " ['·' '·' '·' '·' '·' '·' 'O' '·' '·' '·']\n",
      " ['·' '·' '·' '·' '·' '·' 'O' '·' '·' '·']\n",
      " ['·' '·' '·' '·' '·' '·' '·' '·' '·' '·']\n",
      " ['·' '·' '·' '·' '·' '·' '·' '·' '·' '·']]\n"
     ]
    }
   ],
   "source": [
    "# definimos el tamaño del barco que queremos crear\n",
    "eslora = int(input('Introduce la eslora del barco que quieres crear'))\n",
    "# elegimos aleatoriamente el punto de partida desde el que se colocará nuestro barco\n",
    "fila_a = random.randint(0,9)\n",
    "columna_a = random.randint(0,9)\n",
    "\n",
    "# declaramos como primera posición de nuestro barco los valores obtenidos aleatoriamente\n",
    "# declaramos nuestro barco, con la ubicación del punto de partida\n",
    "fila_inicio = fila_a\n",
    "columna_inicio = columna_a\n",
    "barco = [(fila_inicio, columna_inicio)]\n",
    "print(fila_a,columna_a)\n",
    "\n",
    "# elegimos aleatoriamente la dirección en la que se posicionará nuestro barco\n",
    "orientacion = random.choice([\"S\",\"O\",\"E\",\"N\"])\n",
    "print(orientacion)\n",
    "while len(barco) < eslora:\n",
    "    match orientacion:\n",
    "        case \"O\":\n",
    "            if columna_a - (eslora - 1) >= 0:\n",
    "                columna_inicio -= 1 \n",
    "            else:\n",
    "                orientacion = random.choice([\"S\",\"E\",\"N\"])\n",
    "                print(orientacion)\n",
    "                continue\n",
    "        case \"E\":\n",
    "            if columna_a + (eslora - 1) <= 9:\n",
    "                columna_inicio += 1\n",
    "            else:\n",
    "                orientacion = random.choice([\"S\",\"O\",\"N\"])\n",
    "                print(orientacion)\n",
    "                continue\n",
    "        case \"S\":\n",
    "            if fila_a + (eslora - 1) <= 9:\n",
    "                fila_inicio += 1\n",
    "            else:\n",
    "                orientacion = random.choice([\"O\",\"E\",\"N\"])\n",
    "                print(orientacion)\n",
    "                continue\n",
    "        case \"N\":\n",
    "            if fila_a - (eslora - 1) >= 0:\n",
    "                fila_inicio -= 1\n",
    "            else:\n",
    "                orientacion = random.choice([\"S\",\"O\",\"E\"])\n",
    "                print(orientacion)\n",
    "                continue\n",
    "    barco.append((fila_inicio, columna_inicio))\n",
    "else:\n",
    "    for casilla in barco:\n",
    "        if tablero[casilla] != \"O\" and not barco in barcos:\n",
    "            barcos.append(barco)\n",
    "            tablero = colocar_barco(barco, tablero)\n",
    "            print('Barco de ', len(barco), 'de eslora colocado en posicion ', barco, 'orientación', orientacion)\n",
    "            print(tablero)\n",
    "            break\n",
    "        else:\n",
    "            print('Ya hay un barco en esa posición, crea otro barco')\n",
    "            print(tablero)\n",
    "            break"
   ]
  }
 ],
 "metadata": {
  "kernelspec": {
   "display_name": "Python 3",
   "language": "python",
   "name": "python3"
  },
  "language_info": {
   "codemirror_mode": {
    "name": "ipython",
    "version": 3
   },
   "file_extension": ".py",
   "mimetype": "text/x-python",
   "name": "python",
   "nbconvert_exporter": "python",
   "pygments_lexer": "ipython3",
   "version": "3.12.1"
  }
 },
 "nbformat": 4,
 "nbformat_minor": 2
}
