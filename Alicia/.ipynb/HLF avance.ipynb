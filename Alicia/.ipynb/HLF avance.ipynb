{
 "cells": [
  {
   "cell_type": "code",
   "execution_count": 1,
   "metadata": {},
   "outputs": [],
   "source": [
    "import numpy as np\n",
    "import random\n",
    "import time"
   ]
  },
  {
   "cell_type": "code",
   "execution_count": 56,
   "metadata": {},
   "outputs": [],
   "source": [
    "def crear_tablero(tamaño=(10,10)):\n",
    "    tablero = np.full(tamaño, \"·\")\n",
    "    return tablero\n",
    "    "
   ]
  },
  {
   "cell_type": "code",
   "execution_count": 39,
   "metadata": {},
   "outputs": [],
   "source": [
    "# def crear_tablero(base=10,altura=10):\n",
    "#     tablero = np.full((base + 1, altura + 1), \"·\")\n",
    "#     tablero[0,:] = np.array(range(altura + 1))\n",
    "#     tablero[:,0] = np.array(range(base + 1))\n",
    "#     tablero[0,0] = '*'\n",
    "#     return tablero"
   ]
  },
  {
   "cell_type": "code",
   "execution_count": 57,
   "metadata": {},
   "outputs": [
    {
     "name": "stdout",
     "output_type": "stream",
     "text": [
      "[['·' '·' '·' '·' '·' '·' '·' '·' '·' '·']\n",
      " ['·' '·' '·' '·' '·' '·' '·' '·' '·' '·']\n",
      " ['·' '·' '·' '·' '·' '·' '·' '·' '·' '·']\n",
      " ['·' '·' '·' '·' '·' '·' '·' '·' '·' '·']\n",
      " ['·' '·' '·' '·' '·' '·' '·' '·' '·' '·']\n",
      " ['·' '·' '·' '·' '·' '·' '·' '·' '·' '·']\n",
      " ['·' '·' '·' '·' '·' '·' '·' '·' '·' '·']\n",
      " ['·' '·' '·' '·' '·' '·' '·' '·' '·' '·']\n",
      " ['·' '·' '·' '·' '·' '·' '·' '·' '·' '·']\n",
      " ['·' '·' '·' '·' '·' '·' '·' '·' '·' '·']]\n"
     ]
    }
   ],
   "source": [
    "tablero = crear_tablero()\n",
    "print(tablero)"
   ]
  },
  {
   "cell_type": "code",
   "execution_count": 26,
   "metadata": {},
   "outputs": [
    {
     "name": "stdout",
     "output_type": "stream",
     "text": [
      "1\n"
     ]
    }
   ],
   "source": [
    "print(tablero[0,10])"
   ]
  },
  {
   "cell_type": "code",
   "execution_count": 3,
   "metadata": {},
   "outputs": [],
   "source": [
    "barcos = []\n",
    "barcos_descartados = []\n",
    "tablero = crear_tablero()\n",
    "contador = 0\n"
   ]
  },
  {
   "cell_type": "code",
   "execution_count": 4,
   "metadata": {},
   "outputs": [],
   "source": [
    "def colocar_barco(barco, tablero):\n",
    "    for casilla in barco:\n",
    "        tablero[casilla] = \"O\"\n",
    "    return tablero"
   ]
  },
  {
   "cell_type": "code",
   "execution_count": 5,
   "metadata": {},
   "outputs": [
    {
     "name": "stdout",
     "output_type": "stream",
     "text": [
      "0 3\n",
      "N\n"
     ]
    },
    {
     "ename": "NameError",
     "evalue": "name 'eslora' is not defined",
     "output_type": "error",
     "traceback": [
      "\u001b[1;31m---------------------------------------------------------------------------\u001b[0m",
      "\u001b[1;31mNameError\u001b[0m                                 Traceback (most recent call last)",
      "Cell \u001b[1;32mIn[5], line 17\u001b[0m\n\u001b[0;32m     15\u001b[0m orientacion \u001b[38;5;241m=\u001b[39m random\u001b[38;5;241m.\u001b[39mchoice([\u001b[38;5;124m\"\u001b[39m\u001b[38;5;124mS\u001b[39m\u001b[38;5;124m\"\u001b[39m,\u001b[38;5;124m\"\u001b[39m\u001b[38;5;124mO\u001b[39m\u001b[38;5;124m\"\u001b[39m,\u001b[38;5;124m\"\u001b[39m\u001b[38;5;124mE\u001b[39m\u001b[38;5;124m\"\u001b[39m,\u001b[38;5;124m\"\u001b[39m\u001b[38;5;124mN\u001b[39m\u001b[38;5;124m\"\u001b[39m])\n\u001b[0;32m     16\u001b[0m \u001b[38;5;28mprint\u001b[39m(orientacion)\n\u001b[1;32m---> 17\u001b[0m \u001b[38;5;28;01mwhile\u001b[39;00m \u001b[38;5;28mlen\u001b[39m(barco) \u001b[38;5;241m<\u001b[39m \u001b[43meslora\u001b[49m:\n\u001b[0;32m     18\u001b[0m     \u001b[38;5;28;01mmatch\u001b[39;00m orientacion:\n\u001b[0;32m     19\u001b[0m         \u001b[38;5;28;01mcase\u001b[39;00m \u001b[38;5;124m\"\u001b[39m\u001b[38;5;124mO\u001b[39m\u001b[38;5;124m\"\u001b[39m:\n",
      "\u001b[1;31mNameError\u001b[0m: name 'eslora' is not defined"
     ]
    }
   ],
   "source": [
    "# definimos el tamaño del barco que queremos crear\n",
    "# eslora = int(input('Introduce la eslora del barco que quieres crear'))\n",
    "# elegimos aleatoriamente el punto de partida desde el que se colocará nuestro barco\n",
    "fila_a = random.randint(0,9)\n",
    "columna_a = random.randint(0,9)\n",
    "\n",
    "# declaramos como primera posición de nuestro barco los valores obtenidos aleatoriamente\n",
    "# declaramos nuestro barco, con la ubicación del punto de partida\n",
    "fila_inicio = fila_a\n",
    "columna_inicio = columna_a\n",
    "barco = [(fila_inicio, columna_inicio)]\n",
    "print(fila_a,columna_a)\n",
    "\n",
    "# elegimos aleatoriamente la dirección en la que se posicionará nuestro barco\n",
    "orientacion = random.choice([\"S\",\"O\",\"E\",\"N\"])\n",
    "print(orientacion)\n",
    "while len(barco) < eslora:\n",
    "    match orientacion:\n",
    "        case \"O\":\n",
    "            if columna_a - (eslora - 1) >= 0:\n",
    "                columna_inicio -= 1 \n",
    "            else:\n",
    "                orientacion = random.choice([\"S\",\"E\",\"N\"])\n",
    "                print(orientacion)\n",
    "                continue\n",
    "        case \"E\":\n",
    "            if columna_a + (eslora - 1) <= 9:\n",
    "                columna_inicio += 1\n",
    "            else:\n",
    "                orientacion = random.choice([\"S\",\"O\",\"N\"])\n",
    "                print(orientacion)\n",
    "                continue\n",
    "        case \"S\":\n",
    "            if fila_a + (eslora - 1) <= 9:\n",
    "                fila_inicio += 1\n",
    "            else:\n",
    "                orientacion = random.choice([\"O\",\"E\",\"N\"])\n",
    "                print(orientacion)\n",
    "                continue\n",
    "        case \"N\":\n",
    "            if fila_a - (eslora - 1) >= 0:\n",
    "                fila_inicio -= 1\n",
    "            else:\n",
    "                orientacion = random.choice([\"S\",\"O\",\"E\"])\n",
    "                print(orientacion)\n",
    "                continue\n",
    "    barco.append((fila_inicio, columna_inicio))\n",
    "else:\n",
    "    for casilla in barco:\n",
    "        if tablero[casilla] != \"O\" and not barco in barcos:\n",
    "            barcos.append(barco)\n",
    "            tablero = colocar_barco(barco, tablero)\n",
    "            print('Barco de ', len(barco), 'de eslora colocado en posicion ', barco, 'orientación', orientacion)\n",
    "            print(barco)\n",
    "            print(tablero)\n",
    "            break\n",
    "        else:\n",
    "            print(barco)\n",
    "            print('Ya hay un barco en esa posición, crea otro barco')\n",
    "            break"
   ]
  },
  {
   "cell_type": "code",
   "execution_count": null,
   "metadata": {},
   "outputs": [],
   "source": [
    "def crear_barco(eslora, tablero):    \n",
    "    # elegimos aleatoriamente el punto de partida desde el que se colocará nuestro barco\n",
    "    fila_a = random.randint(0,9)\n",
    "    columna_a = random.randint(0,9)\n",
    "\n",
    "    # declaramos como primera posición de nuestro barco los valores obtenidos aleatoriamente\n",
    "    # declaramos nuestro barco, con la ubicación del punto de partida\n",
    "    fila_inicio = fila_a\n",
    "    columna_inicio = columna_a\n",
    "    barco = [(fila_inicio, columna_inicio)]\n",
    "    print(fila_a,columna_a)\n",
    "\n",
    "    # elegimos aleatoriamente la dirección en la que se posicionará nuestro barco\n",
    "    orientacion = random.choice([\"S\",\"O\",\"E\",\"N\"])\n",
    "    print(orientacion)\n",
    "    while len(barco) < eslora:\n",
    "        match orientacion:\n",
    "            case \"O\":\n",
    "                if columna_a - (eslora - 1) >= 0:\n",
    "                    columna_inicio -= 1 \n",
    "                else:\n",
    "                    orientacion = random.choice([\"S\",\"E\",\"N\"])\n",
    "                    print(orientacion)\n",
    "                    continue\n",
    "            case \"E\":\n",
    "                if columna_a + (eslora - 1) <= 9:\n",
    "                    columna_inicio += 1\n",
    "                else:\n",
    "                    orientacion = random.choice([\"S\",\"O\",\"N\"])\n",
    "                    print(orientacion)\n",
    "                    continue\n",
    "            case \"S\":\n",
    "                if fila_a + (eslora - 1) <= 9:\n",
    "                    fila_inicio += 1\n",
    "                else:\n",
    "                    orientacion = random.choice([\"O\",\"E\",\"N\"])\n",
    "                    print(orientacion)\n",
    "                    continue\n",
    "            case \"N\":\n",
    "                if fila_a - (eslora - 1) >= 0:\n",
    "                    fila_inicio -= 1\n",
    "                else:\n",
    "                    orientacion = random.choice([\"S\",\"O\",\"E\"])\n",
    "                    print(orientacion)\n",
    "                    continue\n",
    "        barco.append((fila_inicio, columna_inicio))\n",
    "    else:\n",
    "        for casilla in barco:\n",
    "            if tablero[casilla] != \"O\":\n",
    "                barcos.append(barco)\n",
    "                tablero = colocar_barco(barco, tablero)\n",
    "                print('Barco de ', len(barco), 'de eslora colocado en posicion ', barco, 'orientación', orientacion)\n",
    "                print(barco)\n",
    "                print(tablero)\n",
    "                break\n",
    "            else:\n",
    "                crear_barco(eslora, tablero)\n",
    "                break"
   ]
  },
  {
   "cell_type": "code",
   "execution_count": 6,
   "metadata": {},
   "outputs": [],
   "source": [
    "def crear_barco(eslora, tablero, contador):    \n",
    "    # elegimos aleatoriamente el punto de partida desde el que se colocará nuestro barco\n",
    "    fila_a = random.randint(0,9)\n",
    "    columna_a = random.randint(0,9)\n",
    "\n",
    "    # declaramos como primera posición de nuestro barco los valores obtenidos aleatoriamente\n",
    "    # declaramos nuestro barco, con la ubicación del punto de partida\n",
    "    fila_inicio = fila_a\n",
    "    columna_inicio = columna_a\n",
    "    barco = [(fila_inicio, columna_inicio)]\n",
    "    print(fila_a,columna_a)\n",
    "\n",
    "    # elegimos aleatoriamente la dirección en la que se posicionará nuestro barco\n",
    "    orientacion = random.choice([\"S\",\"O\",\"E\",\"N\"])\n",
    "    print(orientacion)\n",
    "    while len(barco) < eslora:\n",
    "        match orientacion:\n",
    "            case \"O\":\n",
    "                if columna_a - (eslora - 1) >= 0:\n",
    "                    columna_inicio -= 1 \n",
    "                else:\n",
    "                    orientacion = random.choice([\"S\",\"E\",\"N\"])\n",
    "                    print(orientacion)\n",
    "                    continue\n",
    "            case \"E\":\n",
    "                if columna_a + (eslora - 1) <= 9:\n",
    "                    columna_inicio += 1\n",
    "                else:\n",
    "                    orientacion = random.choice([\"S\",\"O\",\"N\"])\n",
    "                    print(orientacion)\n",
    "                    continue\n",
    "            case \"S\":\n",
    "                if fila_a + (eslora - 1) <= 9:\n",
    "                    fila_inicio += 1\n",
    "                else:\n",
    "                    orientacion = random.choice([\"O\",\"E\",\"N\"])\n",
    "                    print(orientacion)\n",
    "                    continue\n",
    "            case \"N\":\n",
    "                if fila_a - (eslora - 1) >= 0:\n",
    "                    fila_inicio -= 1\n",
    "                else:\n",
    "                    orientacion = random.choice([\"S\",\"O\",\"E\"])\n",
    "                    print(orientacion)\n",
    "                    continue\n",
    "        barco.append((fila_inicio, columna_inicio))\n",
    "    else:\n",
    "        for casilla in barco:\n",
    "            if tablero[casilla] != \"O\":\n",
    "                contador +=1\n",
    "                if contador == eslora:\n",
    "                    barcos.append(barco)\n",
    "                    tablero = colocar_barco(barco, tablero)\n",
    "                    print('Barco de ', len(barco), 'de eslora colocado en posicion ', barco, 'orientación', orientacion)\n",
    "                    print(barco)\n",
    "                    print(tablero)\n",
    "                    break\n",
    "            else:\n",
    "                print('Creando nuevo barco')\n",
    "                crear_barco(eslora, tablero,contador)\n",
    "                break\n",
    "        \n",
    "        "
   ]
  },
  {
   "cell_type": "code",
   "execution_count": 7,
   "metadata": {},
   "outputs": [],
   "source": [
    "barcos = []\n",
    "barcos_descartados = []\n",
    "tablero = crear_tablero()\n",
    "contador = 0"
   ]
  },
  {
   "cell_type": "code",
   "execution_count": 8,
   "metadata": {},
   "outputs": [
    {
     "name": "stdout",
     "output_type": "stream",
     "text": [
      "9 6\n",
      "S\n",
      "O\n",
      "Barco de  3 de eslora colocado en posicion  [(9, 6), (9, 5), (9, 4)] orientación O\n",
      "[(9, 6), (9, 5), (9, 4)]\n",
      "[['·' '·' '·' '·' '·' '·' '·' '·' '·' '·']\n",
      " ['·' '·' '·' '·' '·' '·' '·' '·' '·' '·']\n",
      " ['·' '·' '·' '·' '·' '·' '·' '·' '·' '·']\n",
      " ['·' '·' '·' '·' '·' '·' '·' '·' '·' '·']\n",
      " ['·' '·' '·' '·' '·' '·' '·' '·' '·' '·']\n",
      " ['·' '·' '·' '·' '·' '·' '·' '·' '·' '·']\n",
      " ['·' '·' '·' '·' '·' '·' '·' '·' '·' '·']\n",
      " ['·' '·' '·' '·' '·' '·' '·' '·' '·' '·']\n",
      " ['·' '·' '·' '·' '·' '·' '·' '·' '·' '·']\n",
      " ['·' '·' '·' '·' 'O' 'O' 'O' '·' '·' '·']]\n"
     ]
    }
   ],
   "source": [
    "crear_barco(3,tablero,contador)"
   ]
  },
  {
   "cell_type": "code",
   "execution_count": 9,
   "metadata": {},
   "outputs": [
    {
     "name": "stdout",
     "output_type": "stream",
     "text": [
      "6 4\n",
      "S\n",
      "Creando nuevo barco\n",
      "2 6\n",
      "O\n",
      "Barco de  4 de eslora colocado en posicion  [(2, 6), (2, 5), (2, 4), (2, 3)] orientación O\n",
      "[(2, 6), (2, 5), (2, 4), (2, 3)]\n",
      "[['·' '·' '·' '·' '·' '·' '·' '·' '·' '·']\n",
      " ['·' '·' '·' '·' '·' '·' '·' '·' '·' '·']\n",
      " ['·' '·' '·' 'O' 'O' 'O' 'O' '·' '·' '·']\n",
      " ['·' '·' '·' '·' '·' '·' '·' '·' '·' '·']\n",
      " ['·' '·' '·' '·' '·' '·' '·' '·' '·' '·']\n",
      " ['·' '·' '·' '·' '·' '·' '·' '·' '·' '·']\n",
      " ['·' '·' '·' '·' '·' '·' '·' '·' '·' '·']\n",
      " ['·' '·' '·' '·' '·' '·' '·' '·' '·' '·']\n",
      " ['·' '·' '·' '·' '·' '·' '·' '·' '·' '·']\n",
      " ['·' '·' '·' '·' 'O' 'O' 'O' '·' '·' '·']]\n"
     ]
    }
   ],
   "source": [
    "crear_barco(4,tablero,contador)"
   ]
  },
  {
   "cell_type": "code",
   "execution_count": 10,
   "metadata": {},
   "outputs": [
    {
     "name": "stdout",
     "output_type": "stream",
     "text": [
      "6 7\n",
      "E\n",
      "Barco de  3 de eslora colocado en posicion  [(6, 7), (6, 8), (6, 9)] orientación E\n",
      "[(6, 7), (6, 8), (6, 9)]\n",
      "[['·' '·' '·' '·' '·' '·' '·' '·' '·' '·']\n",
      " ['·' '·' '·' '·' '·' '·' '·' '·' '·' '·']\n",
      " ['·' '·' '·' 'O' 'O' 'O' 'O' '·' '·' '·']\n",
      " ['·' '·' '·' '·' '·' '·' '·' '·' '·' '·']\n",
      " ['·' '·' '·' '·' '·' '·' '·' '·' '·' '·']\n",
      " ['·' '·' '·' '·' '·' '·' '·' '·' '·' '·']\n",
      " ['·' '·' '·' '·' '·' '·' '·' 'O' 'O' 'O']\n",
      " ['·' '·' '·' '·' '·' '·' '·' '·' '·' '·']\n",
      " ['·' '·' '·' '·' '·' '·' '·' '·' '·' '·']\n",
      " ['·' '·' '·' '·' 'O' 'O' 'O' '·' '·' '·']]\n"
     ]
    }
   ],
   "source": [
    "crear_barco(3,tablero,contador)"
   ]
  },
  {
   "cell_type": "code",
   "execution_count": 11,
   "metadata": {},
   "outputs": [
    {
     "name": "stdout",
     "output_type": "stream",
     "text": [
      "4 9\n",
      "O\n",
      "Barco de  4 de eslora colocado en posicion  [(4, 9), (4, 8), (4, 7), (4, 6)] orientación O\n",
      "[(4, 9), (4, 8), (4, 7), (4, 6)]\n",
      "[['·' '·' '·' '·' '·' '·' '·' '·' '·' '·']\n",
      " ['·' '·' '·' '·' '·' '·' '·' '·' '·' '·']\n",
      " ['·' '·' '·' 'O' 'O' 'O' 'O' '·' '·' '·']\n",
      " ['·' '·' '·' '·' '·' '·' '·' '·' '·' '·']\n",
      " ['·' '·' '·' '·' '·' '·' 'O' 'O' 'O' 'O']\n",
      " ['·' '·' '·' '·' '·' '·' '·' '·' '·' '·']\n",
      " ['·' '·' '·' '·' '·' '·' '·' 'O' 'O' 'O']\n",
      " ['·' '·' '·' '·' '·' '·' '·' '·' '·' '·']\n",
      " ['·' '·' '·' '·' '·' '·' '·' '·' '·' '·']\n",
      " ['·' '·' '·' '·' 'O' 'O' 'O' '·' '·' '·']]\n"
     ]
    }
   ],
   "source": [
    "crear_barco(4,tablero,contador)"
   ]
  },
  {
   "cell_type": "code",
   "execution_count": 12,
   "metadata": {},
   "outputs": [
    {
     "name": "stdout",
     "output_type": "stream",
     "text": [
      "8 9\n",
      "N\n",
      "Creando nuevo barco\n",
      "7 8\n",
      "E\n",
      "O\n",
      "Barco de  3 de eslora colocado en posicion  [(7, 8), (7, 7), (7, 6)] orientación O\n",
      "[(7, 8), (7, 7), (7, 6)]\n",
      "[['·' '·' '·' '·' '·' '·' '·' '·' '·' '·']\n",
      " ['·' '·' '·' '·' '·' '·' '·' '·' '·' '·']\n",
      " ['·' '·' '·' 'O' 'O' 'O' 'O' '·' '·' '·']\n",
      " ['·' '·' '·' '·' '·' '·' '·' '·' '·' '·']\n",
      " ['·' '·' '·' '·' '·' '·' 'O' 'O' 'O' 'O']\n",
      " ['·' '·' '·' '·' '·' '·' '·' '·' '·' '·']\n",
      " ['·' '·' '·' '·' '·' '·' '·' 'O' 'O' 'O']\n",
      " ['·' '·' '·' '·' '·' '·' 'O' 'O' 'O' '·']\n",
      " ['·' '·' '·' '·' '·' '·' '·' '·' '·' '·']\n",
      " ['·' '·' '·' '·' 'O' 'O' 'O' '·' '·' '·']]\n"
     ]
    }
   ],
   "source": [
    "crear_barco(3,tablero,contador)"
   ]
  },
  {
   "cell_type": "code",
   "execution_count": 13,
   "metadata": {},
   "outputs": [
    {
     "name": "stdout",
     "output_type": "stream",
     "text": [
      "7 7\n",
      "O\n",
      "Creando nuevo barco\n",
      "3 3\n",
      "S\n",
      "Barco de  3 de eslora colocado en posicion  [(3, 3), (4, 3), (5, 3)] orientación S\n",
      "[(3, 3), (4, 3), (5, 3)]\n",
      "[['·' '·' '·' '·' '·' '·' '·' '·' '·' '·']\n",
      " ['·' '·' '·' '·' '·' '·' '·' '·' '·' '·']\n",
      " ['·' '·' '·' 'O' 'O' 'O' 'O' '·' '·' '·']\n",
      " ['·' '·' '·' 'O' '·' '·' '·' '·' '·' '·']\n",
      " ['·' '·' '·' 'O' '·' '·' 'O' 'O' 'O' 'O']\n",
      " ['·' '·' '·' 'O' '·' '·' '·' '·' '·' '·']\n",
      " ['·' '·' '·' '·' '·' '·' '·' 'O' 'O' 'O']\n",
      " ['·' '·' '·' '·' '·' '·' 'O' 'O' 'O' '·']\n",
      " ['·' '·' '·' '·' '·' '·' '·' '·' '·' '·']\n",
      " ['·' '·' '·' '·' 'O' 'O' 'O' '·' '·' '·']]\n"
     ]
    }
   ],
   "source": [
    "crear_barco(3,tablero,contador)"
   ]
  },
  {
   "cell_type": "code",
   "execution_count": 14,
   "metadata": {},
   "outputs": [
    {
     "name": "stdout",
     "output_type": "stream",
     "text": [
      "0 5\n",
      "O\n",
      "Barco de  3 de eslora colocado en posicion  [(0, 5), (0, 4), (0, 3)] orientación O\n",
      "[(0, 5), (0, 4), (0, 3)]\n",
      "[['·' '·' '·' 'O' 'O' 'O' '·' '·' '·' '·']\n",
      " ['·' '·' '·' '·' '·' '·' '·' '·' '·' '·']\n",
      " ['·' '·' '·' 'O' 'O' 'O' 'O' '·' '·' '·']\n",
      " ['·' '·' '·' 'O' '·' '·' '·' '·' '·' '·']\n",
      " ['·' '·' '·' 'O' '·' '·' 'O' 'O' 'O' 'O']\n",
      " ['·' '·' '·' 'O' '·' '·' '·' '·' '·' '·']\n",
      " ['·' '·' '·' '·' '·' '·' '·' 'O' 'O' 'O']\n",
      " ['·' '·' '·' '·' '·' '·' 'O' 'O' 'O' '·']\n",
      " ['·' '·' '·' '·' '·' '·' '·' '·' '·' '·']\n",
      " ['·' '·' '·' '·' 'O' 'O' 'O' '·' '·' '·']]\n"
     ]
    }
   ],
   "source": [
    "crear_barco(3,tablero,contador)"
   ]
  },
  {
   "cell_type": "code",
   "execution_count": 15,
   "metadata": {},
   "outputs": [
    {
     "name": "stdout",
     "output_type": "stream",
     "text": [
      "4 2\n",
      "O\n",
      "Barco de  3 de eslora colocado en posicion  [(4, 2), (4, 1), (4, 0)] orientación O\n",
      "[(4, 2), (4, 1), (4, 0)]\n",
      "[['·' '·' '·' 'O' 'O' 'O' '·' '·' '·' '·']\n",
      " ['·' '·' '·' '·' '·' '·' '·' '·' '·' '·']\n",
      " ['·' '·' '·' 'O' 'O' 'O' 'O' '·' '·' '·']\n",
      " ['·' '·' '·' 'O' '·' '·' '·' '·' '·' '·']\n",
      " ['O' 'O' 'O' 'O' '·' '·' 'O' 'O' 'O' 'O']\n",
      " ['·' '·' '·' 'O' '·' '·' '·' '·' '·' '·']\n",
      " ['·' '·' '·' '·' '·' '·' '·' 'O' 'O' 'O']\n",
      " ['·' '·' '·' '·' '·' '·' 'O' 'O' 'O' '·']\n",
      " ['·' '·' '·' '·' '·' '·' '·' '·' '·' '·']\n",
      " ['·' '·' '·' '·' 'O' 'O' 'O' '·' '·' '·']]\n"
     ]
    }
   ],
   "source": [
    "crear_barco(3,tablero,contador)"
   ]
  }
 ],
 "metadata": {
  "kernelspec": {
   "display_name": "Python 3",
   "language": "python",
   "name": "python3"
  },
  "language_info": {
   "codemirror_mode": {
    "name": "ipython",
    "version": 3
   },
   "file_extension": ".py",
   "mimetype": "text/x-python",
   "name": "python",
   "nbconvert_exporter": "python",
   "pygments_lexer": "ipython3",
   "version": "3.12.1"
  }
 },
 "nbformat": 4,
 "nbformat_minor": 2
}
