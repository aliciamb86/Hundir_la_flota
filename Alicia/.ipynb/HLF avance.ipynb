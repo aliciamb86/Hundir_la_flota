{
 "cells": [
  {
   "cell_type": "code",
   "execution_count": 1,
   "metadata": {},
   "outputs": [],
   "source": [
    "import numpy as np\n",
    "import random\n",
    "import time"
   ]
  },
  {
   "cell_type": "code",
   "execution_count": 81,
   "metadata": {},
   "outputs": [],
   "source": [
    "def crear_tablero_jug(tamaño=(10,10)):\n",
    "    tablero_jug = np.full(tamaño, \"·\")\n",
    "    return tablero_jug\n",
    "    "
   ]
  },
  {
   "cell_type": "code",
   "execution_count": 39,
   "metadata": {},
   "outputs": [],
   "source": [
    "# def crear_tablero(base=10,altura=10):\n",
    "#     tablero = np.full((base + 1, altura + 1), \"·\")\n",
    "#     tablero[0,:] = np.array(range(altura + 1))\n",
    "#     tablero[:,0] = np.array(range(base + 1))\n",
    "#     tablero[0,0] = '*'\n",
    "#     return tablero"
   ]
  },
  {
   "cell_type": "code",
   "execution_count": 82,
   "metadata": {},
   "outputs": [
    {
     "name": "stdout",
     "output_type": "stream",
     "text": [
      "[['·' '·' '·' '·' '·' '·' '·' '·' '·' '·']\n",
      " ['·' '·' '·' '·' '·' '·' '·' '·' '·' '·']\n",
      " ['·' '·' '·' '·' '·' '·' '·' '·' '·' '·']\n",
      " ['·' '·' '·' '·' '·' '·' '·' '·' '·' '·']\n",
      " ['·' '·' '·' '·' '·' '·' '·' '·' '·' '·']\n",
      " ['·' '·' '·' '·' '·' '·' '·' '·' '·' '·']\n",
      " ['·' '·' '·' '·' '·' '·' '·' '·' '·' '·']\n",
      " ['·' '·' '·' '·' '·' '·' '·' '·' '·' '·']\n",
      " ['·' '·' '·' '·' '·' '·' '·' '·' '·' '·']\n",
      " ['·' '·' '·' '·' '·' '·' '·' '·' '·' '·']]\n"
     ]
    }
   ],
   "source": [
    "tablero_jug = crear_tablero()\n",
    "print(tablero_jug)"
   ]
  },
  {
   "cell_type": "code",
   "execution_count": 3,
   "metadata": {},
   "outputs": [],
   "source": [
    "barcos = []\n",
    "barcos_descartados = []\n",
    "tablero_jug = crear_tablero_jug()\n",
    "contador = 0\n"
   ]
  },
  {
   "cell_type": "code",
   "execution_count": 91,
   "metadata": {},
   "outputs": [],
   "source": [
    "def colocar_barco_jug(barco, tablero_jug):\n",
    "    for casilla in barco:\n",
    "        tablero_jug[casilla] = \"O\"\n",
    "    return tablero_jug"
   ]
  },
  {
   "cell_type": "code",
   "execution_count": null,
   "metadata": {},
   "outputs": [],
   "source": [
    "# def crear_barco(eslora, tablero_jug):    \n",
    "#     # elegimos aleatoriamente el punto de partida desde el que se colocará nuestro barco\n",
    "#     fila_a = random.randint(0,9)\n",
    "#     columna_a = random.randint(0,9)\n",
    "\n",
    "#     # declaramos como primera posición de nuestro barco los valores obtenidos aleatoriamente\n",
    "#     # declaramos nuestro barco, con la ubicación del punto de partida\n",
    "#     fila_inicio = fila_a\n",
    "#     columna_inicio = columna_a\n",
    "#     barco = [(fila_inicio, columna_inicio)]\n",
    "#     print(fila_a,columna_a)\n",
    "\n",
    "#     # elegimos aleatoriamente la dirección en la que se posicionará nuestro barco\n",
    "#     orientacion = random.choice([\"S\",\"O\",\"E\",\"N\"])\n",
    "#     print(orientacion)\n",
    "#     while len(barco) < eslora:\n",
    "#         match orientacion:\n",
    "#             case \"O\":\n",
    "#                 if columna_a - (eslora - 1) >= 0:\n",
    "#                     columna_inicio -= 1 \n",
    "#                 else:\n",
    "#                     orientacion = random.choice([\"S\",\"E\",\"N\"])\n",
    "#                     print(orientacion)\n",
    "#                     continue\n",
    "#             case \"E\":\n",
    "#                 if columna_a + (eslora - 1) <= 9:\n",
    "#                     columna_inicio += 1\n",
    "#                 else:\n",
    "#                     orientacion = random.choice([\"S\",\"O\",\"N\"])\n",
    "#                     print(orientacion)\n",
    "#                     continue\n",
    "#             case \"S\":\n",
    "#                 if fila_a + (eslora - 1) <= 9:\n",
    "#                     fila_inicio += 1\n",
    "#                 else:\n",
    "#                     orientacion = random.choice([\"O\",\"E\",\"N\"])\n",
    "#                     print(orientacion)\n",
    "#                     continue\n",
    "#             case \"N\":\n",
    "#                 if fila_a - (eslora - 1) >= 0:\n",
    "#                     fila_inicio -= 1\n",
    "#                 else:\n",
    "#                     orientacion = random.choice([\"S\",\"O\",\"E\"])\n",
    "#                     print(orientacion)\n",
    "#                     continue\n",
    "#         barco.append((fila_inicio, columna_inicio))\n",
    "#     else:\n",
    "#         for casilla in barco:\n",
    "#             if tablero[casilla] != \"O\":\n",
    "#                 barcos.append(barco)\n",
    "#                 tablero_jug = colocar_barco(barco, tablero)\n",
    "#                 print('Barco de ', len(barco), 'de eslora colocado en posicion ', barco, 'orientación', orientacion)\n",
    "#                 print(barco)\n",
    "#                 print(tablero)\n",
    "#                 break\n",
    "#             else:\n",
    "#                 crear_barco(eslora, tablero)\n",
    "#                 break"
   ]
  },
  {
   "cell_type": "code",
   "execution_count": 92,
   "metadata": {},
   "outputs": [],
   "source": [
    "def crear_barco_jug(eslora, tablero_jug, contador):    \n",
    "    # elegimos aleatoriamente el punto de partida desde el que se colocará nuestro barco\n",
    "    fila_a = random.randint(0,9)\n",
    "    columna_a = random.randint(0,9)\n",
    "\n",
    "    # declaramos como primera posición de nuestro barco los valores obtenidos aleatoriamente\n",
    "    # declaramos nuestro barco, con la ubicación del punto de partida\n",
    "    fila_inicio = fila_a\n",
    "    columna_inicio = columna_a\n",
    "    barco = [(fila_inicio, columna_inicio)]\n",
    "    # print(fila_a,columna_a)\n",
    "\n",
    "    # elegimos aleatoriamente la dirección en la que se posicionará nuestro barco\n",
    "    orientacion = random.choice([\"S\",\"O\",\"E\",\"N\"])\n",
    "    # print(orientacion)\n",
    "    while len(barco) < eslora:\n",
    "        match orientacion:\n",
    "            case \"O\":\n",
    "                if columna_a - (eslora - 1) >= 0:\n",
    "                    columna_inicio -= 1 \n",
    "                else:\n",
    "                    orientacion = random.choice([\"S\",\"E\",\"N\"])\n",
    "                    # print(orientacion)\n",
    "                    continue\n",
    "            case \"E\":\n",
    "                if columna_a + (eslora - 1) <= 9:\n",
    "                    columna_inicio += 1\n",
    "                else:\n",
    "                    orientacion = random.choice([\"S\",\"O\",\"N\"])\n",
    "                    # print(orientacion)\n",
    "                    continue\n",
    "            case \"S\":\n",
    "                if fila_a + (eslora - 1) <= 9:\n",
    "                    fila_inicio += 1\n",
    "                else:\n",
    "                    orientacion = random.choice([\"O\",\"E\",\"N\"])\n",
    "                    # print(orientacion)\n",
    "                    continue\n",
    "            case \"N\":\n",
    "                if fila_a - (eslora - 1) >= 0:\n",
    "                    fila_inicio -= 1\n",
    "                else:\n",
    "                    orientacion = random.choice([\"S\",\"O\",\"E\"])\n",
    "                    # print(orientacion)\n",
    "                    continue\n",
    "        barco.append((fila_inicio, columna_inicio))\n",
    "    else:\n",
    "        for casilla in barco:\n",
    "            if tablero_jug[casilla] != \"O\":\n",
    "                contador +=1\n",
    "                if contador == eslora:\n",
    "                    barcos.append(barco)\n",
    "                    tablero_jug = colocar_barco_jug(barco, tablero_jug)\n",
    "                    # print('Barco de ', len(barco), 'de eslora colocado en posicion ', barco, 'orientación', orientacion)\n",
    "                    # print(barco)\n",
    "                    # print(tablero)\n",
    "                    break\n",
    "            else:\n",
    "                # print('Creando nuevo barco')\n",
    "                crear_barco(eslora, tablero_jug, contador)\n",
    "                break\n",
    "        \n",
    "        "
   ]
  },
  {
   "cell_type": "markdown",
   "metadata": {},
   "source": [
    "    * 4 barcos de 1 posición de eslora\n",
    "    * 3 barcos de 2 posiciones de eslora\n",
    "    * 2 barcos de 3 posiciones de eslora\n",
    "    * 1 barco de 4 posiciones de eslora"
   ]
  },
  {
   "cell_type": "code",
   "execution_count": 93,
   "metadata": {},
   "outputs": [],
   "source": [
    "tablero_jug = crear_tablero_jug()\n"
   ]
  },
  {
   "cell_type": "code",
   "execution_count": 94,
   "metadata": {},
   "outputs": [
    {
     "name": "stdout",
     "output_type": "stream",
     "text": [
      "[['·' '·' '·' '·' '·' 'O' '·' '·' '·' '·']\n",
      " ['·' 'O' 'O' 'O' '·' 'O' '·' '·' '·' '·']\n",
      " ['·' '·' '·' '·' '·' 'O' 'O' 'O' '·' 'O']\n",
      " ['·' '·' '·' '·' '·' '·' '·' '·' '·' 'O']\n",
      " ['·' '·' '·' '·' '·' '·' '·' '·' '·' 'O']\n",
      " ['·' '·' '·' '·' '·' '·' '·' '·' 'O' 'O']\n",
      " ['·' '·' '·' '·' 'O' '·' '·' '·' '·' '·']\n",
      " ['·' '·' '·' '·' '·' '·' '·' '·' '·' '·']\n",
      " ['O' 'O' '·' '·' '·' '·' '·' '·' '·' '·']\n",
      " ['O' 'O' 'O' '·' '·' '·' '·' '·' '·' 'O']]\n"
     ]
    }
   ],
   "source": [
    "barco_1_1 = crear_barco_jug(1, tablero_jug, contador)\n",
    "barco_2_1 = crear_barco_jug(1, tablero_jug, contador)\n",
    "barco_3_1 = crear_barco_jug(1, tablero_jug, contador)\n",
    "barco_4_1 = crear_barco_jug(1, tablero_jug, contador)\n",
    "barco_5_1 = crear_barco_jug(2, tablero_jug, contador)\n",
    "barco_6_1 = crear_barco_jug(2, tablero_jug, contador)\n",
    "barco_7_1 = crear_barco_jug(2, tablero_jug, contador)\n",
    "barco_8_1 = crear_barco_jug(3, tablero_jug, contador)\n",
    "barco_9_1 = crear_barco_jug(3, tablero_jug, contador)\n",
    "barco_10_1 = crear_barco_jug(4, tablero_jug, contador)\n",
    "print(tablero_jug)"
   ]
  },
  {
   "cell_type": "code",
   "execution_count": 62,
   "metadata": {},
   "outputs": [
    {
     "ename": "SyntaxError",
     "evalue": "invalid syntax. Maybe you meant '==' or ':=' instead of '='? (2224526907.py, line 3)",
     "output_type": "error",
     "traceback": [
      "\u001b[1;36m  Cell \u001b[1;32mIn[62], line 3\u001b[1;36m\u001b[0m\n\u001b[1;33m    barcos_jug_1 = [barco_1_1 = crear_barco(1, tablero, contador),\u001b[0m\n\u001b[1;37m                    ^\u001b[0m\n\u001b[1;31mSyntaxError\u001b[0m\u001b[1;31m:\u001b[0m invalid syntax. Maybe you meant '==' or ':=' instead of '='?\n"
     ]
    }
   ],
   "source": [
    "# creamos los barcos para jugador 1\n",
    "\n",
    "barcos_jug_1 = [barco_1_1 = crear_barco(1, tablero, contador),\n",
    "                barco_2_1 = crear_barco(1, tablero, contador),\n",
    "                barco_3_1 = crear_barco(1, tablero, contador),\n",
    "                barco_4_1 = crear_barco(1, tablero, contador),\n",
    "                barco_5_1 = crear_barco(2, tablero, contador),\n",
    "                barco_6_1 = crear_barco(2, tablero, contador),\n",
    "                barco_7_1 = crear_barco(2, tablero, contador),\n",
    "                barco_8_1 = crear_barco(3, tablero, contador),\n",
    "                barco_9_1 = crear_barco(3, tablero, contador),\n",
    "                barco_10_1 = crear_barco(4, tablero, contador)]"
   ]
  }
 ],
 "metadata": {
  "kernelspec": {
   "display_name": "Python 3",
   "language": "python",
   "name": "python3"
  },
  "language_info": {
   "codemirror_mode": {
    "name": "ipython",
    "version": 3
   },
   "file_extension": ".py",
   "mimetype": "text/x-python",
   "name": "python",
   "nbconvert_exporter": "python",
   "pygments_lexer": "ipython3",
   "version": "3.12.1"
  }
 },
 "nbformat": 4,
 "nbformat_minor": 2
}
