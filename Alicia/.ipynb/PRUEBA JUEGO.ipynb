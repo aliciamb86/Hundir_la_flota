{
 "cells": [
  {
   "cell_type": "code",
   "execution_count": 21,
   "metadata": {},
   "outputs": [],
   "source": [
    "import numpy as np\n",
    "import random\n",
    "import time\n",
    "import funciones as f\n",
    "import variables as v"
   ]
  },
  {
   "cell_type": "code",
   "execution_count": 22,
   "metadata": {},
   "outputs": [],
   "source": [
    "# def crear_barco(eslora, tablero, contador, lista_barcos):   "
   ]
  },
  {
   "cell_type": "code",
   "execution_count": 23,
   "metadata": {},
   "outputs": [
    {
     "ename": "TypeError",
     "evalue": "crear_barco() takes 3 positional arguments but 4 were given",
     "output_type": "error",
     "traceback": [
      "\u001b[1;31m---------------------------------------------------------------------------\u001b[0m",
      "\u001b[1;31mTypeError\u001b[0m                                 Traceback (most recent call last)",
      "Cell \u001b[1;32mIn[23], line 1\u001b[0m\n\u001b[1;32m----> 1\u001b[0m barco_1j \u001b[38;5;241m=\u001b[39m \u001b[43mf\u001b[49m\u001b[38;5;241;43m.\u001b[39;49m\u001b[43mcrear_barco\u001b[49m\u001b[43m(\u001b[49m\u001b[38;5;241;43m1\u001b[39;49m\u001b[43m,\u001b[49m\u001b[43m \u001b[49m\u001b[43mv\u001b[49m\u001b[38;5;241;43m.\u001b[39;49m\u001b[43mtablero_jug\u001b[49m\u001b[43m,\u001b[49m\u001b[43m \u001b[49m\u001b[43mv\u001b[49m\u001b[38;5;241;43m.\u001b[39;49m\u001b[43mcontador\u001b[49m\u001b[43m,\u001b[49m\u001b[43m \u001b[49m\u001b[43mv\u001b[49m\u001b[38;5;241;43m.\u001b[39;49m\u001b[43mlista_barcos_jug\u001b[49m\u001b[43m)\u001b[49m\n\u001b[0;32m      2\u001b[0m barco_2j \u001b[38;5;241m=\u001b[39m f\u001b[38;5;241m.\u001b[39mcrear_barco(\u001b[38;5;241m1\u001b[39m, v\u001b[38;5;241m.\u001b[39mtablero_jug, v\u001b[38;5;241m.\u001b[39mcontador, v\u001b[38;5;241m.\u001b[39mlista_barcos_jug)\n\u001b[0;32m      3\u001b[0m barco_3j \u001b[38;5;241m=\u001b[39m f\u001b[38;5;241m.\u001b[39mcrear_barco(\u001b[38;5;241m1\u001b[39m, v\u001b[38;5;241m.\u001b[39mtablero_jug, v\u001b[38;5;241m.\u001b[39mcontador,v\u001b[38;5;241m.\u001b[39mlista_barcos_jug)\n",
      "\u001b[1;31mTypeError\u001b[0m: crear_barco() takes 3 positional arguments but 4 were given"
     ]
    }
   ],
   "source": [
    "\n",
    "barco_1j = f.crear_barco(1, v.tablero_jug, v.contador, v.lista_barcos_jug)\n",
    "barco_2j = f.crear_barco(1, v.tablero_jug, v.contador, v.lista_barcos_jug)\n",
    "barco_3j = f.crear_barco(1, v.tablero_jug, v.contador,v.lista_barcos_jug)\n",
    "barco_4j = f.crear_barco(1, v.tablero_jug, v.contador, v.lista_barcos_jug)\n",
    "barco_5j = f.crear_barco(2, v.tablero_jug, v.contador, v.lista_barcos_jug)\n",
    "barco_6j = f.crear_barco(2, v.tablero_jug, v.contador, v.lista_barcos_jug)\n",
    "barco_7j = f.crear_barco(2, v.tablero_jug, v.contador, v.lista_barcos_jug)\n",
    "barco_8j = f.crear_barco(3, v.tablero_jug, v.contador, v.lista_barcos_jug)\n",
    "barco_9j = f.crear_barco(3, v.tablero_jug, v.contador, v.lista_barcos_jug)\n",
    "barco_10j = f.crear_barco(4, v.tablero_jug, v.contador, v.lista_barcos_jug)"
   ]
  }
 ],
 "metadata": {
  "kernelspec": {
   "display_name": "Python 3",
   "language": "python",
   "name": "python3"
  },
  "language_info": {
   "codemirror_mode": {
    "name": "ipython",
    "version": 3
   },
   "file_extension": ".py",
   "mimetype": "text/x-python",
   "name": "python",
   "nbconvert_exporter": "python",
   "pygments_lexer": "ipython3",
   "version": "3.12.1"
  }
 },
 "nbformat": 4,
 "nbformat_minor": 2
}
