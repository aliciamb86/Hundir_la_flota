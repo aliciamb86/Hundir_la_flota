{
 "cells": [
  {
   "cell_type": "code",
   "execution_count": 5,
   "metadata": {},
   "outputs": [
    {
     "ename": "NameError",
     "evalue": "name 'contador' is not defined",
     "output_type": "error",
     "traceback": [
      "\u001b[1;31m---------------------------------------------------------------------------\u001b[0m",
      "\u001b[1;31mNameError\u001b[0m                                 Traceback (most recent call last)",
      "Cell \u001b[1;32mIn[5], line 11\u001b[0m\n\u001b[0;32m      7\u001b[0m tablero_jug \u001b[38;5;241m=\u001b[39m f\u001b[38;5;241m.\u001b[39mcrear_tablero()\n\u001b[0;32m      8\u001b[0m \u001b[38;5;66;03m# print(tablero_jug)\u001b[39;00m\n\u001b[0;32m      9\u001b[0m \n\u001b[0;32m     10\u001b[0m \u001b[38;5;66;03m# creamos los barcos del jugador 1\u001b[39;00m\n\u001b[1;32m---> 11\u001b[0m barco_1j \u001b[38;5;241m=\u001b[39m f\u001b[38;5;241m.\u001b[39mcrear_barco(\u001b[38;5;241m1\u001b[39m, tablero_jug, \u001b[43mcontador\u001b[49m)\n\u001b[0;32m     12\u001b[0m barco_2j \u001b[38;5;241m=\u001b[39m f\u001b[38;5;241m.\u001b[39mcrear_barco(\u001b[38;5;241m1\u001b[39m, tablero_jug, contador)\n\u001b[0;32m     13\u001b[0m barco_3j \u001b[38;5;241m=\u001b[39m f\u001b[38;5;241m.\u001b[39mcrear_barco(\u001b[38;5;241m1\u001b[39m, tablero_jug, contador)\n",
      "\u001b[1;31mNameError\u001b[0m: name 'contador' is not defined"
     ]
    }
   ],
   "source": [
    "import numpy as np\n",
    "import random\n",
    "import time\n",
    "import funciones as f\n",
    "\n",
    "# creamos el tablero del jugador 1\n",
    "tablero_jug = f.crear_tablero()\n",
    "# print(tablero_jug)\n",
    "\n",
    "# creamos los barcos del jugador 1\n",
    "barco_1j = f.crear_barco(1, tablero_jug, contador)\n",
    "barco_2j = f.crear_barco(1, tablero_jug, contador)\n",
    "barco_3j = f.crear_barco(1, tablero_jug, contador)\n",
    "barco_4j = f.crear_barco(1, tablero_jug, contador)\n",
    "barco_5j = f.crear_barco(2, tablero_jug, contador)\n",
    "barco_6j = f.crear_barco(2, tablero_jug, contador)\n",
    "barco_7j = f.crear_barco(2, tablero_jug, contador)\n",
    "barco_8j = f.crear_barco(3, tablero_jug, contador)\n",
    "barco_9j = f.crear_barco(3, tablero_jug, contador)\n",
    "barco_10j = f.crear_barco(4, tablero_jug,contador)\n",
    "print('TABLERO JUGADOR \\n', tablero_jug)\n",
    "\n",
    "\n",
    "# creamos el tablero de la máquina\n",
    "tablero_maq = f.crear_tablero()\n",
    "# print(tablero_maq)\n",
    "\n",
    "# creamos los barcos de la máquina\n",
    "barco_1m = f.crear_barco(1, tablero_maq, contador)\n",
    "barco_2m = f.crear_barco(1, tablero_maq, contador)\n",
    "barco_3m = f.crear_barco(1, tablero_maq, contador)\n",
    "barco_4m = f.crear_barco(1, tablero_maq, contador)\n",
    "barco_5m = f.crear_barco(2, tablero_maq, contador)\n",
    "barco_6m = f.crear_barco(2, tablero_maq, contador)\n",
    "barco_7m = f.crear_barco(2, tablero_maq, contador)\n",
    "barco_8m = f.crear_barco(3, tablero_maq, contador)\n",
    "barco_9m = f.crear_barco(3, tablero_maq, contador)\n",
    "barco_10m = f.crear_barco(4, tablero_maq, contador)\n",
    "# print(tablero_maq)\n",
    "\n",
    "# ocultamos el tablero de la máquina\n",
    "tablero_maq_oculto = f.ocultar_tablero(tablero_maq)\n",
    "print('TABLERO MÁQUINA \\n', tablero_maq_oculto)"
   ]
  }
 ],
 "metadata": {
  "kernelspec": {
   "display_name": "Python 3",
   "language": "python",
   "name": "python3"
  },
  "language_info": {
   "codemirror_mode": {
    "name": "ipython",
    "version": 3
   },
   "file_extension": ".py",
   "mimetype": "text/x-python",
   "name": "python",
   "nbconvert_exporter": "python",
   "pygments_lexer": "ipython3",
   "version": "3.12.1"
  }
 },
 "nbformat": 4,
 "nbformat_minor": 2
}
