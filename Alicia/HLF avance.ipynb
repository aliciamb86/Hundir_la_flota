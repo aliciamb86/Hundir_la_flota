{
 "cells": [
  {
   "cell_type": "code",
   "execution_count": 8,
   "metadata": {},
   "outputs": [],
   "source": [
    "import numpy as np\n",
    "import random\n",
    "import time"
   ]
  },
  {
   "cell_type": "code",
   "execution_count": 9,
   "metadata": {},
   "outputs": [],
   "source": [
    "def crear_tablero(tamaño=(10,10)):\n",
    "    tablero = np.full(tamaño, \"·\")\n",
    "    return tablero\n",
    "    "
   ]
  },
  {
   "cell_type": "code",
   "execution_count": 58,
   "metadata": {},
   "outputs": [],
   "source": [
    "barcos = []\n",
    "barcos_descartados = []\n",
    "tablero = crear_tablero()\n",
    "contador = 0\n"
   ]
  },
  {
   "cell_type": "code",
   "execution_count": 11,
   "metadata": {},
   "outputs": [],
   "source": [
    "def colocar_barco(barco, tablero):\n",
    "    for casilla in barco:\n",
    "        tablero[casilla] = \"O\"\n",
    "    return tablero"
   ]
  },
  {
   "cell_type": "code",
   "execution_count": 12,
   "metadata": {},
   "outputs": [
    {
     "ename": "ValueError",
     "evalue": "invalid literal for int() with base 10: ''",
     "output_type": "error",
     "traceback": [
      "\u001b[1;31m---------------------------------------------------------------------------\u001b[0m",
      "\u001b[1;31mValueError\u001b[0m                                Traceback (most recent call last)",
      "Cell \u001b[1;32mIn[12], line 2\u001b[0m\n\u001b[0;32m      1\u001b[0m \u001b[38;5;66;03m# definimos el tamaño del barco que queremos crear\u001b[39;00m\n\u001b[1;32m----> 2\u001b[0m eslora \u001b[38;5;241m=\u001b[39m \u001b[38;5;28;43mint\u001b[39;49m\u001b[43m(\u001b[49m\u001b[38;5;28;43minput\u001b[39;49m\u001b[43m(\u001b[49m\u001b[38;5;124;43m'\u001b[39;49m\u001b[38;5;124;43mIntroduce la eslora del barco que quieres crear\u001b[39;49m\u001b[38;5;124;43m'\u001b[39;49m\u001b[43m)\u001b[49m\u001b[43m)\u001b[49m\n\u001b[0;32m      3\u001b[0m \u001b[38;5;66;03m# elegimos aleatoriamente el punto de partida desde el que se colocará nuestro barco\u001b[39;00m\n\u001b[0;32m      4\u001b[0m fila_a \u001b[38;5;241m=\u001b[39m random\u001b[38;5;241m.\u001b[39mrandint(\u001b[38;5;241m0\u001b[39m,\u001b[38;5;241m9\u001b[39m)\n",
      "\u001b[1;31mValueError\u001b[0m: invalid literal for int() with base 10: ''"
     ]
    }
   ],
   "source": [
    "# definimos el tamaño del barco que queremos crear\n",
    "# eslora = int(input('Introduce la eslora del barco que quieres crear'))\n",
    "# elegimos aleatoriamente el punto de partida desde el que se colocará nuestro barco\n",
    "fila_a = random.randint(0,9)\n",
    "columna_a = random.randint(0,9)\n",
    "\n",
    "# declaramos como primera posición de nuestro barco los valores obtenidos aleatoriamente\n",
    "# declaramos nuestro barco, con la ubicación del punto de partida\n",
    "fila_inicio = fila_a\n",
    "columna_inicio = columna_a\n",
    "barco = [(fila_inicio, columna_inicio)]\n",
    "print(fila_a,columna_a)\n",
    "\n",
    "# elegimos aleatoriamente la dirección en la que se posicionará nuestro barco\n",
    "orientacion = random.choice([\"S\",\"O\",\"E\",\"N\"])\n",
    "print(orientacion)\n",
    "while len(barco) < eslora:\n",
    "    match orientacion:\n",
    "        case \"O\":\n",
    "            if columna_a - (eslora - 1) >= 0:\n",
    "                columna_inicio -= 1 \n",
    "            else:\n",
    "                orientacion = random.choice([\"S\",\"E\",\"N\"])\n",
    "                print(orientacion)\n",
    "                continue\n",
    "        case \"E\":\n",
    "            if columna_a + (eslora - 1) <= 9:\n",
    "                columna_inicio += 1\n",
    "            else:\n",
    "                orientacion = random.choice([\"S\",\"O\",\"N\"])\n",
    "                print(orientacion)\n",
    "                continue\n",
    "        case \"S\":\n",
    "            if fila_a + (eslora - 1) <= 9:\n",
    "                fila_inicio += 1\n",
    "            else:\n",
    "                orientacion = random.choice([\"O\",\"E\",\"N\"])\n",
    "                print(orientacion)\n",
    "                continue\n",
    "        case \"N\":\n",
    "            if fila_a - (eslora - 1) >= 0:\n",
    "                fila_inicio -= 1\n",
    "            else:\n",
    "                orientacion = random.choice([\"S\",\"O\",\"E\"])\n",
    "                print(orientacion)\n",
    "                continue\n",
    "    barco.append((fila_inicio, columna_inicio))\n",
    "else:\n",
    "    for casilla in barco:\n",
    "        if tablero[casilla] != \"O\" and not barco in barcos:\n",
    "            barcos.append(barco)\n",
    "            tablero = colocar_barco(barco, tablero)\n",
    "            print('Barco de ', len(barco), 'de eslora colocado en posicion ', barco, 'orientación', orientacion)\n",
    "            print(barco)\n",
    "            print(tablero)\n",
    "            break\n",
    "        else:\n",
    "            print(barco)\n",
    "            print('Ya hay un barco en esa posición, crea otro barco')\n",
    "            break"
   ]
  },
  {
   "cell_type": "code",
   "execution_count": 49,
   "metadata": {},
   "outputs": [],
   "source": [
    "def crear_barco(eslora, tablero):    \n",
    "    # elegimos aleatoriamente el punto de partida desde el que se colocará nuestro barco\n",
    "    fila_a = random.randint(0,9)\n",
    "    columna_a = random.randint(0,9)\n",
    "\n",
    "    # declaramos como primera posición de nuestro barco los valores obtenidos aleatoriamente\n",
    "    # declaramos nuestro barco, con la ubicación del punto de partida\n",
    "    fila_inicio = fila_a\n",
    "    columna_inicio = columna_a\n",
    "    barco = [(fila_inicio, columna_inicio)]\n",
    "    print(fila_a,columna_a)\n",
    "\n",
    "    # elegimos aleatoriamente la dirección en la que se posicionará nuestro barco\n",
    "    orientacion = random.choice([\"S\",\"O\",\"E\",\"N\"])\n",
    "    print(orientacion)\n",
    "    while len(barco) < eslora:\n",
    "        match orientacion:\n",
    "            case \"O\":\n",
    "                if columna_a - (eslora - 1) >= 0:\n",
    "                    columna_inicio -= 1 \n",
    "                else:\n",
    "                    orientacion = random.choice([\"S\",\"E\",\"N\"])\n",
    "                    print(orientacion)\n",
    "                    continue\n",
    "            case \"E\":\n",
    "                if columna_a + (eslora - 1) <= 9:\n",
    "                    columna_inicio += 1\n",
    "                else:\n",
    "                    orientacion = random.choice([\"S\",\"O\",\"N\"])\n",
    "                    print(orientacion)\n",
    "                    continue\n",
    "            case \"S\":\n",
    "                if fila_a + (eslora - 1) <= 9:\n",
    "                    fila_inicio += 1\n",
    "                else:\n",
    "                    orientacion = random.choice([\"O\",\"E\",\"N\"])\n",
    "                    print(orientacion)\n",
    "                    continue\n",
    "            case \"N\":\n",
    "                if fila_a - (eslora - 1) >= 0:\n",
    "                    fila_inicio -= 1\n",
    "                else:\n",
    "                    orientacion = random.choice([\"S\",\"O\",\"E\"])\n",
    "                    print(orientacion)\n",
    "                    continue\n",
    "        barco.append((fila_inicio, columna_inicio))\n",
    "    else:\n",
    "        for casilla in barco:\n",
    "            if tablero[casilla] != \"O\":\n",
    "                barcos.append(barco)\n",
    "                tablero = colocar_barco(barco, tablero)\n",
    "                print('Barco de ', len(barco), 'de eslora colocado en posicion ', barco, 'orientación', orientacion)\n",
    "                print(barco)\n",
    "                print(tablero)\n",
    "                break\n",
    "            else:\n",
    "                crear_barco(eslora, tablero)\n",
    "                break"
   ]
  },
  {
   "cell_type": "code",
   "execution_count": 83,
   "metadata": {},
   "outputs": [],
   "source": [
    "def crear_barco(eslora, tablero, contador):    \n",
    "    # elegimos aleatoriamente el punto de partida desde el que se colocará nuestro barco\n",
    "    fila_a = random.randint(0,9)\n",
    "    columna_a = random.randint(0,9)\n",
    "\n",
    "    # declaramos como primera posición de nuestro barco los valores obtenidos aleatoriamente\n",
    "    # declaramos nuestro barco, con la ubicación del punto de partida\n",
    "    fila_inicio = fila_a\n",
    "    columna_inicio = columna_a\n",
    "    barco = [(fila_inicio, columna_inicio)]\n",
    "    print(fila_a,columna_a)\n",
    "\n",
    "    # elegimos aleatoriamente la dirección en la que se posicionará nuestro barco\n",
    "    orientacion = random.choice([\"S\",\"O\",\"E\",\"N\"])\n",
    "    print(orientacion)\n",
    "    while len(barco) < eslora:\n",
    "        match orientacion:\n",
    "            case \"O\":\n",
    "                if columna_a - (eslora - 1) >= 0:\n",
    "                    columna_inicio -= 1 \n",
    "                else:\n",
    "                    orientacion = random.choice([\"S\",\"E\",\"N\"])\n",
    "                    print(orientacion)\n",
    "                    continue\n",
    "            case \"E\":\n",
    "                if columna_a + (eslora - 1) <= 9:\n",
    "                    columna_inicio += 1\n",
    "                else:\n",
    "                    orientacion = random.choice([\"S\",\"O\",\"N\"])\n",
    "                    print(orientacion)\n",
    "                    continue\n",
    "            case \"S\":\n",
    "                if fila_a + (eslora - 1) <= 9:\n",
    "                    fila_inicio += 1\n",
    "                else:\n",
    "                    orientacion = random.choice([\"O\",\"E\",\"N\"])\n",
    "                    print(orientacion)\n",
    "                    continue\n",
    "            case \"N\":\n",
    "                if fila_a - (eslora - 1) >= 0:\n",
    "                    fila_inicio -= 1\n",
    "                else:\n",
    "                    orientacion = random.choice([\"S\",\"O\",\"E\"])\n",
    "                    print(orientacion)\n",
    "                    continue\n",
    "        barco.append((fila_inicio, columna_inicio))\n",
    "    else:\n",
    "        for casilla in barco:\n",
    "            if tablero[casilla] != \"O\":\n",
    "                contador +=1\n",
    "                if contador == eslora:\n",
    "                    barcos.append(barco)\n",
    "                    tablero = colocar_barco(barco, tablero)\n",
    "                    print('Barco de ', len(barco), 'de eslora colocado en posicion ', barco, 'orientación', orientacion)\n",
    "                    print(barco)\n",
    "                    print(tablero)\n",
    "                    break\n",
    "            else:\n",
    "                print('Creando nuevo barco')\n",
    "                crear_barco(eslora, tablero,contador)\n",
    "                break\n",
    "        \n",
    "        "
   ]
  },
  {
   "cell_type": "code",
   "execution_count": 84,
   "metadata": {},
   "outputs": [],
   "source": [
    "barcos = []\n",
    "barcos_descartados = []\n",
    "tablero = crear_tablero()\n",
    "contador = 0"
   ]
  },
  {
   "cell_type": "code",
   "execution_count": 85,
   "metadata": {},
   "outputs": [
    {
     "name": "stdout",
     "output_type": "stream",
     "text": [
      "9 1\n",
      "E\n",
      "Barco de  3 de eslora colocado en posicion  [(9, 1), (9, 2), (9, 3)] orientación E\n",
      "[(9, 1), (9, 2), (9, 3)]\n",
      "[['·' '·' '·' '·' '·' '·' '·' '·' '·' '·']\n",
      " ['·' '·' '·' '·' '·' '·' '·' '·' '·' '·']\n",
      " ['·' '·' '·' '·' '·' '·' '·' '·' '·' '·']\n",
      " ['·' '·' '·' '·' '·' '·' '·' '·' '·' '·']\n",
      " ['·' '·' '·' '·' '·' '·' '·' '·' '·' '·']\n",
      " ['·' '·' '·' '·' '·' '·' '·' '·' '·' '·']\n",
      " ['·' '·' '·' '·' '·' '·' '·' '·' '·' '·']\n",
      " ['·' '·' '·' '·' '·' '·' '·' '·' '·' '·']\n",
      " ['·' '·' '·' '·' '·' '·' '·' '·' '·' '·']\n",
      " ['·' 'O' 'O' 'O' '·' '·' '·' '·' '·' '·']]\n"
     ]
    }
   ],
   "source": [
    "crear_barco(3,tablero,contador)"
   ]
  },
  {
   "cell_type": "code",
   "execution_count": 86,
   "metadata": {},
   "outputs": [
    {
     "name": "stdout",
     "output_type": "stream",
     "text": [
      "4 5\n",
      "E\n",
      "Barco de  4 de eslora colocado en posicion  [(4, 5), (4, 6), (4, 7), (4, 8)] orientación E\n",
      "[(4, 5), (4, 6), (4, 7), (4, 8)]\n",
      "[['·' '·' '·' '·' '·' '·' '·' '·' '·' '·']\n",
      " ['·' '·' '·' '·' '·' '·' '·' '·' '·' '·']\n",
      " ['·' '·' '·' '·' '·' '·' '·' '·' '·' '·']\n",
      " ['·' '·' '·' '·' '·' '·' '·' '·' '·' '·']\n",
      " ['·' '·' '·' '·' '·' 'O' 'O' 'O' 'O' '·']\n",
      " ['·' '·' '·' '·' '·' '·' '·' '·' '·' '·']\n",
      " ['·' '·' '·' '·' '·' '·' '·' '·' '·' '·']\n",
      " ['·' '·' '·' '·' '·' '·' '·' '·' '·' '·']\n",
      " ['·' '·' '·' '·' '·' '·' '·' '·' '·' '·']\n",
      " ['·' 'O' 'O' 'O' '·' '·' '·' '·' '·' '·']]\n"
     ]
    }
   ],
   "source": [
    "crear_barco(4,tablero,contador)"
   ]
  },
  {
   "cell_type": "code",
   "execution_count": 87,
   "metadata": {},
   "outputs": [
    {
     "name": "stdout",
     "output_type": "stream",
     "text": [
      "1 0\n",
      "E\n",
      "Barco de  3 de eslora colocado en posicion  [(1, 0), (1, 1), (1, 2)] orientación E\n",
      "[(1, 0), (1, 1), (1, 2)]\n",
      "[['·' '·' '·' '·' '·' '·' '·' '·' '·' '·']\n",
      " ['O' 'O' 'O' '·' '·' '·' '·' '·' '·' '·']\n",
      " ['·' '·' '·' '·' '·' '·' '·' '·' '·' '·']\n",
      " ['·' '·' '·' '·' '·' '·' '·' '·' '·' '·']\n",
      " ['·' '·' '·' '·' '·' 'O' 'O' 'O' 'O' '·']\n",
      " ['·' '·' '·' '·' '·' '·' '·' '·' '·' '·']\n",
      " ['·' '·' '·' '·' '·' '·' '·' '·' '·' '·']\n",
      " ['·' '·' '·' '·' '·' '·' '·' '·' '·' '·']\n",
      " ['·' '·' '·' '·' '·' '·' '·' '·' '·' '·']\n",
      " ['·' 'O' 'O' 'O' '·' '·' '·' '·' '·' '·']]\n"
     ]
    }
   ],
   "source": [
    "crear_barco(3,tablero,contador)"
   ]
  },
  {
   "cell_type": "code",
   "execution_count": 88,
   "metadata": {},
   "outputs": [
    {
     "name": "stdout",
     "output_type": "stream",
     "text": [
      "4 7\n",
      "N\n",
      "Creando nuevo barco\n",
      "2 8\n",
      "N\n",
      "S\n",
      "Creando nuevo barco\n",
      "4 9\n",
      "O\n",
      "Creando nuevo barco\n",
      "0 8\n",
      "S\n",
      "Barco de  4 de eslora colocado en posicion  [(0, 8), (1, 8), (2, 8), (3, 8)] orientación S\n",
      "[(0, 8), (1, 8), (2, 8), (3, 8)]\n",
      "[['·' '·' '·' '·' '·' '·' '·' '·' 'O' '·']\n",
      " ['O' 'O' 'O' '·' '·' '·' '·' '·' 'O' '·']\n",
      " ['·' '·' '·' '·' '·' '·' '·' '·' 'O' '·']\n",
      " ['·' '·' '·' '·' '·' '·' '·' '·' 'O' '·']\n",
      " ['·' '·' '·' '·' '·' 'O' 'O' 'O' 'O' '·']\n",
      " ['·' '·' '·' '·' '·' '·' '·' '·' '·' '·']\n",
      " ['·' '·' '·' '·' '·' '·' '·' '·' '·' '·']\n",
      " ['·' '·' '·' '·' '·' '·' '·' '·' '·' '·']\n",
      " ['·' '·' '·' '·' '·' '·' '·' '·' '·' '·']\n",
      " ['·' 'O' 'O' 'O' '·' '·' '·' '·' '·' '·']]\n"
     ]
    }
   ],
   "source": [
    "crear_barco(4,tablero,contador)"
   ]
  },
  {
   "cell_type": "code",
   "execution_count": 89,
   "metadata": {},
   "outputs": [
    {
     "name": "stdout",
     "output_type": "stream",
     "text": [
      "8 3\n",
      "O\n",
      "Barco de  3 de eslora colocado en posicion  [(8, 3), (8, 2), (8, 1)] orientación O\n",
      "[(8, 3), (8, 2), (8, 1)]\n",
      "[['·' '·' '·' '·' '·' '·' '·' '·' 'O' '·']\n",
      " ['O' 'O' 'O' '·' '·' '·' '·' '·' 'O' '·']\n",
      " ['·' '·' '·' '·' '·' '·' '·' '·' 'O' '·']\n",
      " ['·' '·' '·' '·' '·' '·' '·' '·' 'O' '·']\n",
      " ['·' '·' '·' '·' '·' 'O' 'O' 'O' 'O' '·']\n",
      " ['·' '·' '·' '·' '·' '·' '·' '·' '·' '·']\n",
      " ['·' '·' '·' '·' '·' '·' '·' '·' '·' '·']\n",
      " ['·' '·' '·' '·' '·' '·' '·' '·' '·' '·']\n",
      " ['·' 'O' 'O' 'O' '·' '·' '·' '·' '·' '·']\n",
      " ['·' 'O' 'O' 'O' '·' '·' '·' '·' '·' '·']]\n"
     ]
    }
   ],
   "source": [
    "crear_barco(3,tablero,contador)"
   ]
  },
  {
   "cell_type": "code",
   "execution_count": 90,
   "metadata": {},
   "outputs": [
    {
     "name": "stdout",
     "output_type": "stream",
     "text": [
      "2 3\n",
      "S\n",
      "Barco de  3 de eslora colocado en posicion  [(2, 3), (3, 3), (4, 3)] orientación S\n",
      "[(2, 3), (3, 3), (4, 3)]\n",
      "[['·' '·' '·' '·' '·' '·' '·' '·' 'O' '·']\n",
      " ['O' 'O' 'O' '·' '·' '·' '·' '·' 'O' '·']\n",
      " ['·' '·' '·' 'O' '·' '·' '·' '·' 'O' '·']\n",
      " ['·' '·' '·' 'O' '·' '·' '·' '·' 'O' '·']\n",
      " ['·' '·' '·' 'O' '·' 'O' 'O' 'O' 'O' '·']\n",
      " ['·' '·' '·' '·' '·' '·' '·' '·' '·' '·']\n",
      " ['·' '·' '·' '·' '·' '·' '·' '·' '·' '·']\n",
      " ['·' '·' '·' '·' '·' '·' '·' '·' '·' '·']\n",
      " ['·' 'O' 'O' 'O' '·' '·' '·' '·' '·' '·']\n",
      " ['·' 'O' 'O' 'O' '·' '·' '·' '·' '·' '·']]\n"
     ]
    }
   ],
   "source": [
    "crear_barco(3,tablero,contador)"
   ]
  },
  {
   "cell_type": "code",
   "execution_count": 91,
   "metadata": {},
   "outputs": [
    {
     "name": "stdout",
     "output_type": "stream",
     "text": [
      "0 9\n",
      "N\n",
      "S\n",
      "Barco de  3 de eslora colocado en posicion  [(0, 9), (1, 9), (2, 9)] orientación S\n",
      "[(0, 9), (1, 9), (2, 9)]\n",
      "[['·' '·' '·' '·' '·' '·' '·' '·' 'O' 'O']\n",
      " ['O' 'O' 'O' '·' '·' '·' '·' '·' 'O' 'O']\n",
      " ['·' '·' '·' 'O' '·' '·' '·' '·' 'O' 'O']\n",
      " ['·' '·' '·' 'O' '·' '·' '·' '·' 'O' '·']\n",
      " ['·' '·' '·' 'O' '·' 'O' 'O' 'O' 'O' '·']\n",
      " ['·' '·' '·' '·' '·' '·' '·' '·' '·' '·']\n",
      " ['·' '·' '·' '·' '·' '·' '·' '·' '·' '·']\n",
      " ['·' '·' '·' '·' '·' '·' '·' '·' '·' '·']\n",
      " ['·' 'O' 'O' 'O' '·' '·' '·' '·' '·' '·']\n",
      " ['·' 'O' 'O' 'O' '·' '·' '·' '·' '·' '·']]\n"
     ]
    }
   ],
   "source": [
    "crear_barco(3,tablero,contador)"
   ]
  },
  {
   "cell_type": "code",
   "execution_count": 92,
   "metadata": {},
   "outputs": [
    {
     "name": "stdout",
     "output_type": "stream",
     "text": [
      "6 9\n",
      "O\n",
      "Barco de  3 de eslora colocado en posicion  [(6, 9), (6, 8), (6, 7)] orientación O\n",
      "[(6, 9), (6, 8), (6, 7)]\n",
      "[['·' '·' '·' '·' '·' '·' '·' '·' 'O' 'O']\n",
      " ['O' 'O' 'O' '·' '·' '·' '·' '·' 'O' 'O']\n",
      " ['·' '·' '·' 'O' '·' '·' '·' '·' 'O' 'O']\n",
      " ['·' '·' '·' 'O' '·' '·' '·' '·' 'O' '·']\n",
      " ['·' '·' '·' 'O' '·' 'O' 'O' 'O' 'O' '·']\n",
      " ['·' '·' '·' '·' '·' '·' '·' '·' '·' '·']\n",
      " ['·' '·' '·' '·' '·' '·' '·' 'O' 'O' 'O']\n",
      " ['·' '·' '·' '·' '·' '·' '·' '·' '·' '·']\n",
      " ['·' 'O' 'O' 'O' '·' '·' '·' '·' '·' '·']\n",
      " ['·' 'O' 'O' 'O' '·' '·' '·' '·' '·' '·']]\n"
     ]
    }
   ],
   "source": [
    "crear_barco(3,tablero,contador)"
   ]
  }
 ],
 "metadata": {
  "kernelspec": {
   "display_name": "Python 3",
   "language": "python",
   "name": "python3"
  },
  "language_info": {
   "codemirror_mode": {
    "name": "ipython",
    "version": 3
   },
   "file_extension": ".py",
   "mimetype": "text/x-python",
   "name": "python",
   "nbconvert_exporter": "python",
   "pygments_lexer": "ipython3",
   "version": "3.12.1"
  }
 },
 "nbformat": 4,
 "nbformat_minor": 2
}
