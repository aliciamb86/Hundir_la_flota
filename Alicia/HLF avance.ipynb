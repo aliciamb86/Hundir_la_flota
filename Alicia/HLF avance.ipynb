{
 "cells": [
  {
   "cell_type": "code",
   "execution_count": 6,
   "metadata": {},
   "outputs": [],
   "source": [
    "import numpy as np\n",
    "import random\n",
    "import time"
   ]
  },
  {
   "cell_type": "code",
   "execution_count": 7,
   "metadata": {},
   "outputs": [],
   "source": [
    "def crear_tablero(tamaño=(10,10)):\n",
    "    tablero = np.full(tamaño, \"·\")\n",
    "    return tablero\n",
    "    "
   ]
  },
  {
   "cell_type": "code",
   "execution_count": 8,
   "metadata": {},
   "outputs": [],
   "source": [
    "barcos = []\n",
    "barcos_descartados = []\n",
    "tablero = crear_tablero()\n"
   ]
  },
  {
   "cell_type": "code",
   "execution_count": 44,
   "metadata": {},
   "outputs": [],
   "source": [
    "def colocar_barco(barco, tablero):\n",
    "    for casilla in barco:\n",
    "        tablero[casilla] = \"O\"\n",
    "    return tablero"
   ]
  },
  {
   "cell_type": "code",
   "execution_count": 47,
   "metadata": {},
   "outputs": [
    {
     "name": "stdout",
     "output_type": "stream",
     "text": [
      "0 4\n",
      "S\n",
      "Barco de  2 de eslora colocado en posicion  [(0, 4), (1, 4)] orientación S\n",
      "[(0, 4), (1, 4)]\n",
      "[['·' '·' '·' '·' 'O' '·' '·' '·' '·' '·']\n",
      " ['·' '·' '·' '·' 'O' 'O' 'O' 'O' '·' '·']\n",
      " ['·' '·' '·' '·' '·' '·' '·' '·' '·' '·']\n",
      " ['·' '·' '·' '·' '·' 'O' '·' '·' '·' '·']\n",
      " ['·' '·' '·' '·' '·' 'O' '·' '·' '·' '·']\n",
      " ['·' '·' '·' '·' '·' 'O' '·' '·' '·' '·']\n",
      " ['·' '·' '·' '·' '·' 'O' '·' '·' '·' '·']\n",
      " ['·' '·' '·' '·' '·' '·' '·' '·' '·' '·']\n",
      " ['·' '·' '·' '·' '·' '·' '·' '·' '·' '·']\n",
      " ['·' '·' '·' '·' '·' '·' '·' '·' '·' '·']]\n"
     ]
    }
   ],
   "source": [
    "# definimos el tamaño del barco que queremos crear\n",
    "eslora = int(input('Introduce la eslora del barco que quieres crear'))\n",
    "# elegimos aleatoriamente el punto de partida desde el que se colocará nuestro barco\n",
    "fila_a = random.randint(0,9)\n",
    "columna_a = random.randint(0,9)\n",
    "\n",
    "# declaramos como primera posición de nuestro barco los valores obtenidos aleatoriamente\n",
    "# declaramos nuestro barco, con la ubicación del punto de partida\n",
    "fila_inicio = fila_a\n",
    "columna_inicio = columna_a\n",
    "barco = [(fila_inicio, columna_inicio)]\n",
    "print(fila_a,columna_a)\n",
    "\n",
    "# elegimos aleatoriamente la dirección en la que se posicionará nuestro barco\n",
    "orientacion = random.choice([\"S\",\"O\",\"E\",\"N\"])\n",
    "print(orientacion)\n",
    "while len(barco) < eslora:\n",
    "    match orientacion:\n",
    "        case \"O\":\n",
    "            if columna_a - (eslora - 1) >= 0:\n",
    "                columna_inicio -= 1 \n",
    "            else:\n",
    "                orientacion = random.choice([\"S\",\"E\",\"N\"])\n",
    "                print(orientacion)\n",
    "                continue\n",
    "        case \"E\":\n",
    "            if columna_a + (eslora - 1) <= 9:\n",
    "                columna_inicio += 1\n",
    "            else:\n",
    "                orientacion = random.choice([\"S\",\"O\",\"N\"])\n",
    "                print(orientacion)\n",
    "                continue\n",
    "        case \"S\":\n",
    "            if fila_a + (eslora - 1) <= 9:\n",
    "                fila_inicio += 1\n",
    "            else:\n",
    "                orientacion = random.choice([\"O\",\"E\",\"N\"])\n",
    "                print(orientacion)\n",
    "                continue\n",
    "        case \"N\":\n",
    "            if fila_a - (eslora - 1) >= 0:\n",
    "                fila_inicio -= 1\n",
    "            else:\n",
    "                orientacion = random.choice([\"S\",\"O\",\"E\"])\n",
    "                print(orientacion)\n",
    "                continue\n",
    "    barco.append((fila_inicio, columna_inicio))\n",
    "else:\n",
    "    for casilla in barco:\n",
    "        if tablero[casilla] != \"O\" and not barco in barcos:\n",
    "            barcos.append(barco)\n",
    "            tablero = colocar_barco(barco, tablero)\n",
    "            print('Barco de ', len(barco), 'de eslora colocado en posicion ', barco, 'orientación', orientacion)\n",
    "            print(barco)\n",
    "            print(tablero)\n",
    "            break\n",
    "        else:\n",
    "            print(barco)\n",
    "            print('Ya hay un barco en esa posición, crea otro barco')\n",
    "            break"
   ]
  },
  {
   "cell_type": "code",
   "execution_count": 9,
   "metadata": {},
   "outputs": [],
   "source": [
    "def crear_barco(eslora):    \n",
    "    # elegimos aleatoriamente el punto de partida desde el que se colocará nuestro barco\n",
    "    fila_a = random.randint(0,9)\n",
    "    columna_a = random.randint(0,9)\n",
    "\n",
    "    # declaramos como primera posición de nuestro barco los valores obtenidos aleatoriamente\n",
    "    # declaramos nuestro barco, con la ubicación del punto de partida\n",
    "    fila_inicio = fila_a\n",
    "    columna_inicio = columna_a\n",
    "    barco = [(fila_inicio, columna_inicio)]\n",
    "    print(fila_a,columna_a)\n",
    "\n",
    "    # elegimos aleatoriamente la dirección en la que se posicionará nuestro barco\n",
    "    orientacion = random.choice([\"S\",\"O\",\"E\",\"N\"])\n",
    "    print(orientacion)\n",
    "    while len(barco) < eslora:\n",
    "        match orientacion:\n",
    "            case \"O\":\n",
    "                if columna_a - (eslora - 1) >= 0:\n",
    "                    columna_inicio -= 1 \n",
    "                else:\n",
    "                    orientacion = random.choice([\"S\",\"E\",\"N\"])\n",
    "                    print(orientacion)\n",
    "                    continue\n",
    "            case \"E\":\n",
    "                if columna_a + (eslora - 1) <= 9:\n",
    "                    columna_inicio += 1\n",
    "                else:\n",
    "                    orientacion = random.choice([\"S\",\"O\",\"N\"])\n",
    "                    print(orientacion)\n",
    "                    continue\n",
    "            case \"S\":\n",
    "                if fila_a + (eslora - 1) <= 9:\n",
    "                    fila_inicio += 1\n",
    "                else:\n",
    "                    orientacion = random.choice([\"O\",\"E\",\"N\"])\n",
    "                    print(orientacion)\n",
    "                    continue\n",
    "            case \"N\":\n",
    "                if fila_a - (eslora - 1) >= 0:\n",
    "                    fila_inicio -= 1\n",
    "                else:\n",
    "                    orientacion = random.choice([\"S\",\"O\",\"E\"])\n",
    "                    print(orientacion)\n",
    "                    continue\n",
    "        barco.append((fila_inicio, columna_inicio))\n",
    "    else:\n",
    "        for casilla in barco:\n",
    "            if tablero[casilla] != \"O\" and not barco in barcos:\n",
    "                barcos.append(barco)\n",
    "                tablero = colocar_barco(barco, tablero)\n",
    "                print('Barco de ', len(barco), 'de eslora colocado en posicion ', barco, 'orientación', orientacion)\n",
    "                print(barco)\n",
    "                print(tablero)\n",
    "                break\n",
    "            else:\n",
    "                print(barco)\n",
    "                print('Ya hay un barco en esa posición, crea otro barco')\n",
    "                break"
   ]
  },
  {
   "cell_type": "code",
   "execution_count": 10,
   "metadata": {},
   "outputs": [
    {
     "name": "stdout",
     "output_type": "stream",
     "text": [
      "0 5\n",
      "S\n"
     ]
    },
    {
     "ename": "UnboundLocalError",
     "evalue": "cannot access local variable 'tablero' where it is not associated with a value",
     "output_type": "error",
     "traceback": [
      "\u001b[1;31m---------------------------------------------------------------------------\u001b[0m",
      "\u001b[1;31mUnboundLocalError\u001b[0m                         Traceback (most recent call last)",
      "Cell \u001b[1;32mIn[10], line 1\u001b[0m\n\u001b[1;32m----> 1\u001b[0m \u001b[43mcrear_barco\u001b[49m\u001b[43m(\u001b[49m\u001b[38;5;241;43m4\u001b[39;49m\u001b[43m)\u001b[49m\n",
      "Cell \u001b[1;32mIn[9], line 49\u001b[0m, in \u001b[0;36mcrear_barco\u001b[1;34m(eslora)\u001b[0m\n\u001b[0;32m     47\u001b[0m \u001b[38;5;28;01melse\u001b[39;00m:\n\u001b[0;32m     48\u001b[0m     \u001b[38;5;28;01mfor\u001b[39;00m casilla \u001b[38;5;129;01min\u001b[39;00m barco:\n\u001b[1;32m---> 49\u001b[0m         \u001b[38;5;28;01mif\u001b[39;00m \u001b[43mtablero\u001b[49m[casilla] \u001b[38;5;241m!=\u001b[39m \u001b[38;5;124m\"\u001b[39m\u001b[38;5;124mO\u001b[39m\u001b[38;5;124m\"\u001b[39m \u001b[38;5;129;01mand\u001b[39;00m \u001b[38;5;129;01mnot\u001b[39;00m barco \u001b[38;5;129;01min\u001b[39;00m barcos:\n\u001b[0;32m     50\u001b[0m             barcos\u001b[38;5;241m.\u001b[39mappend(barco)\n\u001b[0;32m     51\u001b[0m             tablero \u001b[38;5;241m=\u001b[39m colocar_barco(barco, tablero)\n",
      "\u001b[1;31mUnboundLocalError\u001b[0m: cannot access local variable 'tablero' where it is not associated with a value"
     ]
    }
   ],
   "source": [
    "crear_barco(4)"
   ]
  }
 ],
 "metadata": {
  "kernelspec": {
   "display_name": "Python 3",
   "language": "python",
   "name": "python3"
  },
  "language_info": {
   "codemirror_mode": {
    "name": "ipython",
    "version": 3
   },
   "file_extension": ".py",
   "mimetype": "text/x-python",
   "name": "python",
   "nbconvert_exporter": "python",
   "pygments_lexer": "ipython3",
   "version": "3.12.1"
  }
 },
 "nbformat": 4,
 "nbformat_minor": 2
}
