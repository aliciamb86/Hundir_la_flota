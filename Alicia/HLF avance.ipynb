{
 "cells": [
  {
   "cell_type": "code",
   "execution_count": 10,
   "metadata": {},
   "outputs": [],
   "source": [
    "import numpy as np\n",
    "import random\n",
    "import time"
   ]
  },
  {
   "cell_type": "code",
   "execution_count": 11,
   "metadata": {},
   "outputs": [],
   "source": [
    "def crear_tablero(tamaño=(10,10)):\n",
    "    tablero = np.full(tamaño, \"·\")\n",
    "    return tablero\n",
    "    "
   ]
  },
  {
   "cell_type": "code",
   "execution_count": 3,
   "metadata": {},
   "outputs": [],
   "source": [
    "# barcos = []\n",
    "# barcos_descartados = []\n",
    "# tablero = crear_tablero()\n"
   ]
  },
  {
   "cell_type": "code",
   "execution_count": 4,
   "metadata": {},
   "outputs": [],
   "source": [
    "def colocar_barco(barco, tablero):\n",
    "    for casilla in barco:\n",
    "        tablero[casilla] = \"O\"\n",
    "    return tablero"
   ]
  },
  {
   "cell_type": "code",
   "execution_count": 20,
   "metadata": {},
   "outputs": [
    {
     "name": "stdout",
     "output_type": "stream",
     "text": [
      "4 7\n",
      "N\n",
      "Ya hay un barco en esa posición, crea otro barco\n",
      "[['·' '·' '·' '·' '·' '·' '·' '·' '·' '·']\n",
      " ['·' '·' '·' 'O' 'O' 'O' 'O' 'O' 'O' '·']\n",
      " ['·' '·' '·' '·' '·' '·' '·' 'O' '·' '·']\n",
      " ['·' 'O' '·' '·' '·' '·' '·' 'O' 'O' '·']\n",
      " ['·' 'O' 'O' 'O' 'O' '·' '·' 'O' 'O' '·']\n",
      " ['O' 'O' 'O' 'O' '·' '·' '·' 'O' 'O' '·']\n",
      " ['·' '·' '·' 'O' 'O' 'O' '·' '·' 'O' '·']\n",
      " ['·' '·' '·' 'O' '·' 'O' 'O' '·' 'O' '·']\n",
      " ['·' '·' '·' 'O' 'O' 'O' 'O' '·' '·' '·']\n",
      " ['·' '·' '·' 'O' '·' '·' 'O' 'O' 'O' 'O']]\n"
     ]
    }
   ],
   "source": [
    "# definimos el tamaño del barco que queremos crear\n",
    "eslora = int(input('Introduce la eslora del barco que quieres crear'))\n",
    "# elegimos aleatoriamente el punto de partida desde el que se colocará nuestro barco\n",
    "fila_a = random.randint(0,9)\n",
    "columna_a = random.randint(0,9)\n",
    "\n",
    "# declaramos como primera posición de nuestro barco los valores obtenidos aleatoriamente\n",
    "# declaramos nuestro barco, con la ubicación del punto de partida\n",
    "fila_inicio = fila_a\n",
    "columna_inicio = columna_a\n",
    "barco = [(fila_inicio, columna_inicio)]\n",
    "print(fila_a,columna_a)\n",
    "\n",
    "# elegimos aleatoriamente la dirección en la que se posicionará nuestro barco\n",
    "orientacion = random.choice([\"S\",\"O\",\"E\",\"N\"])\n",
    "print(orientacion)\n",
    "while len(barco) < eslora:\n",
    "    match orientacion:\n",
    "        case \"O\":\n",
    "            if columna_a - (eslora - 1) >= 0:\n",
    "                columna_inicio -= 1 \n",
    "            else:\n",
    "                orientacion = random.choice([\"S\",\"E\",\"N\"])\n",
    "                print(orientacion)\n",
    "                continue\n",
    "        case \"E\":\n",
    "            if columna_a + (eslora - 1) <= 9:\n",
    "                columna_inicio += 1\n",
    "            else:\n",
    "                orientacion = random.choice([\"S\",\"O\",\"N\"])\n",
    "                print(orientacion)\n",
    "                continue\n",
    "        case \"S\":\n",
    "            if fila_a + (eslora - 1) <= 9:\n",
    "                fila_inicio += 1\n",
    "            else:\n",
    "                orientacion = random.choice([\"O\",\"E\",\"N\"])\n",
    "                print(orientacion)\n",
    "                continue\n",
    "        case \"N\":\n",
    "            if fila_a - (eslora - 1) >= 0:\n",
    "                fila_inicio -= 1\n",
    "            else:\n",
    "                orientacion = random.choice([\"S\",\"O\",\"E\"])\n",
    "                print(orientacion)\n",
    "                continue\n",
    "    barco.append((fila_inicio, columna_inicio))\n",
    "else:\n",
    "    for casilla in barco:\n",
    "        if tablero[casilla] != \"O\" and not barco in barcos:\n",
    "            barcos.append(barco)\n",
    "            tablero = colocar_barco(barco, tablero)\n",
    "            print('Barco de ', len(barco), 'de eslora colocado en posicion ', barco, 'orientación', orientacion)\n",
    "            print(tablero)\n",
    "            break\n",
    "        else:\n",
    "            print('Ya hay un barco en esa posición, crea otro barco')\n",
    "            print(tablero)\n",
    "            break"
   ]
  },
  {
   "cell_type": "code",
   "execution_count": null,
   "metadata": {},
   "outputs": [],
   "source": []
  }
 ],
 "metadata": {
  "kernelspec": {
   "display_name": "Python 3",
   "language": "python",
   "name": "python3"
  },
  "language_info": {
   "codemirror_mode": {
    "name": "ipython",
    "version": 3
   },
   "file_extension": ".py",
   "mimetype": "text/x-python",
   "name": "python",
   "nbconvert_exporter": "python",
   "pygments_lexer": "ipython3",
   "version": "3.12.1"
  }
 },
 "nbformat": 4,
 "nbformat_minor": 2
}
