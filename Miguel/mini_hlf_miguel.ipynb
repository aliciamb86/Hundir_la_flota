{
 "cells": [
  {
   "attachments": {},
   "cell_type": "markdown",
   "metadata": {},
   "source": [
    "#### Bonus track. Mini hundir la flota\n",
    "1. Crea un tablero de 10x10 relleno del carácter espacio \" \".\n",
    "2. Posiciona un par de barcos en [(0,1), (1,1)] y [(1,3), (1,4), (1,5), (1,6)]. Los barcos serán Os mayúsculas. Como ves, un barco de dos posiciones de eslora y otro de cuatro.\n",
    "3. Recibe un disparo en uno de los barcos, sustituyendo la O por una X\n",
    "4. Recibe un disparo en agua, sustituyendo uno de los espacios por un guión: -\n",
    "5. Ignorando los disparos recibidos, ahora prueba a posicionar otro barco de 4 posiciones dentro del tablero, pero **de manera ALEATORIA.**\n",
    "\n",
    "**TIP apartado 5**: El barco tendrá una posición inicial aleatoria dentro del tablero, y una orientación también aleatoria (N,S,E,O).\n",
    "\n",
    "Por ejemplo, si tu posicion inicial fuese (5,0) y la orientación O, no podrias ponerlo porque se sale del tablero. Ahora bien, si fuese orientación este, si podrías, y ocuparía las posiciones [(5,0), (5,1), (5,2), (5,3)]. Por tanto tendrás que iterar con un bucle si es posible encajar el barco en el tablero, y el bucle terminará cuando lo consigas encajar. **Ojo con las posiciones donde ya hay barco!!!**\n",
    "\n",
    "Usa `import random` para elegir las coordenadas aleatorias."
   ]
  },
  {
   "cell_type": "code",
   "execution_count": 1,
   "metadata": {},
   "outputs": [],
   "source": [
    "import numpy as np"
   ]
  },
  {
   "cell_type": "code",
   "execution_count": 2,
   "metadata": {},
   "outputs": [
    {
     "data": {
      "text/plain": [
       "numpy.ndarray"
      ]
     },
     "execution_count": 2,
     "metadata": {},
     "output_type": "execute_result"
    }
   ],
   "source": [
    "type(np.full((10,10), \"¨\"))"
   ]
  },
  {
   "cell_type": "code",
   "execution_count": 31,
   "metadata": {},
   "outputs": [
    {
     "name": "stdout",
     "output_type": "stream",
     "text": [
      "[['¨' '¨' '¨' '¨' '¨' '¨' '¨' '¨' '¨' '¨']\n",
      " ['¨' '¨' '¨' '¨' '¨' '¨' '¨' '¨' '¨' '¨']\n",
      " ['¨' '¨' '¨' '¨' '¨' '¨' '¨' '¨' '¨' '¨']\n",
      " ['¨' '¨' '¨' '¨' '¨' '¨' '¨' '¨' '¨' '¨']\n",
      " ['¨' '¨' '¨' '¨' '¨' '¨' '¨' '¨' '¨' '¨']\n",
      " ['¨' '¨' '¨' '¨' '¨' '¨' '¨' '¨' '¨' '¨']\n",
      " ['¨' '¨' '¨' '¨' '¨' '¨' '¨' '¨' '¨' '¨']\n",
      " ['¨' '¨' '¨' '¨' '¨' '¨' '¨' '¨' '¨' '¨']\n",
      " ['¨' '¨' '¨' '¨' '¨' '¨' '¨' '¨' '¨' '¨']\n",
      " ['¨' '¨' '¨' '¨' '¨' '¨' '¨' '¨' '¨' '¨']]\n"
     ]
    }
   ],
   "source": [
    "tablero = np.full((10,10), \"¨\")\n",
    "print(tablero)"
   ]
  },
  {
   "cell_type": "code",
   "execution_count": 4,
   "metadata": {},
   "outputs": [],
   "source": [
    "def crear_tablero(tamaño=(10,10)):\n",
    "    return np.full(tamaño, \"_\")"
   ]
  },
  {
   "cell_type": "code",
   "execution_count": 5,
   "metadata": {},
   "outputs": [
    {
     "name": "stdout",
     "output_type": "stream",
     "text": [
      "[['_' '_' '_' '_' '_' '_' '_' '_' '_' '_']\n",
      " ['_' '_' '_' '_' '_' '_' '_' '_' '_' '_']\n",
      " ['_' '_' '_' '_' '_' '_' '_' '_' '_' '_']\n",
      " ['_' '_' '_' '_' '_' '_' '_' '_' '_' '_']\n",
      " ['_' '_' '_' '_' '_' '_' '_' '_' '_' '_']\n",
      " ['_' '_' '_' '_' '_' '_' '_' '_' '_' '_']\n",
      " ['_' '_' '_' '_' '_' '_' '_' '_' '_' '_']\n",
      " ['_' '_' '_' '_' '_' '_' '_' '_' '_' '_']\n",
      " ['_' '_' '_' '_' '_' '_' '_' '_' '_' '_']\n",
      " ['_' '_' '_' '_' '_' '_' '_' '_' '_' '_']]\n"
     ]
    }
   ],
   "source": [
    "tablero = crear_tablero()\n",
    "print(tablero)"
   ]
  },
  {
   "cell_type": "code",
   "execution_count": 6,
   "metadata": {},
   "outputs": [],
   "source": [
    "# [(0,1), (1,1)] y [(1,3), (1,4), (1,5), (1,6)]"
   ]
  },
  {
   "cell_type": "code",
   "execution_count": 7,
   "metadata": {},
   "outputs": [
    {
     "name": "stdout",
     "output_type": "stream",
     "text": [
      "[['_' 'O' '_' '_' '_' '_' '_' '_' '_' '_']\n",
      " ['_' 'O' '_' '_' '_' '_' '_' '_' '_' '_']\n",
      " ['_' '_' '_' '_' '_' '_' '_' '_' '_' '_']\n",
      " ['_' '_' '_' '_' '_' '_' '_' '_' '_' '_']\n",
      " ['_' '_' '_' '_' '_' '_' '_' '_' '_' '_']\n",
      " ['_' '_' '_' '_' '_' '_' '_' '_' '_' '_']\n",
      " ['_' '_' '_' '_' '_' '_' '_' '_' '_' '_']\n",
      " ['_' '_' '_' '_' '_' '_' '_' '_' '_' '_']\n",
      " ['_' '_' '_' '_' '_' '_' '_' '_' '_' '_']\n",
      " ['_' '_' '_' '_' '_' '_' '_' '_' '_' '_']]\n"
     ]
    }
   ],
   "source": [
    "tablero[0][1] = \"O\"\n",
    "# print(tablero)\n",
    "tablero[1,1] = \"O\"\n",
    "# print(tablero)\n",
    "tablero[(0,1)] = \"O\"\n",
    "tablero[(1,1)] = \"O\"\n",
    "# print(tablero)\n",
    "tablero[0:2,1:2] = \"O\"\n",
    "print(tablero)"
   ]
  },
  {
   "cell_type": "code",
   "execution_count": 8,
   "metadata": {},
   "outputs": [
    {
     "name": "stdout",
     "output_type": "stream",
     "text": [
      "[['_' 'O' '_' '_' '_' '_' '_' '_' '_' '_']\n",
      " ['_' 'O' '_' 'O' 'O' 'O' 'O' '_' '_' '_']\n",
      " ['_' '_' '_' '_' '_' '_' '_' '_' '_' '_']\n",
      " ['_' '_' '_' '_' '_' '_' '_' '_' '_' '_']\n",
      " ['_' '_' '_' '_' '_' '_' '_' '_' '_' '_']\n",
      " ['_' '_' '_' '_' '_' '_' '_' '_' '_' '_']\n",
      " ['_' '_' '_' '_' '_' '_' '_' '_' '_' '_']\n",
      " ['_' '_' '_' '_' '_' '_' '_' '_' '_' '_']\n",
      " ['_' '_' '_' '_' '_' '_' '_' '_' '_' '_']\n",
      " ['_' '_' '_' '_' '_' '_' '_' '_' '_' '_']]\n"
     ]
    }
   ],
   "source": [
    "barco_1 = [(0,1), (1,1)]\n",
    "barco_2 = [(1,3), (1,4), (1,5), (1,6)]\n",
    "\n",
    "for casilla in barco_2:\n",
    "    tablero[casilla] = \"O\"\n",
    "\n",
    "print(tablero)"
   ]
  },
  {
   "cell_type": "code",
   "execution_count": 9,
   "metadata": {},
   "outputs": [],
   "source": [
    "def colocar_barco(barco, tablero):\n",
    "    for casilla in barco:\n",
    "        tablero[casilla] = \"O\"\n",
    "    return tablero"
   ]
  },
  {
   "cell_type": "code",
   "execution_count": 10,
   "metadata": {},
   "outputs": [
    {
     "name": "stdout",
     "output_type": "stream",
     "text": [
      "[['_' 'O' '_' '_' '_' '_' '_' '_' '_' '_']\n",
      " ['_' 'O' '_' 'O' 'O' 'O' 'O' '_' '_' '_']\n",
      " ['_' '_' '_' '_' '_' '_' '_' '_' '_' '_']\n",
      " ['_' '_' '_' '_' '_' '_' '_' '_' '_' '_']\n",
      " ['_' '_' '_' '_' '_' '_' '_' '_' '_' '_']\n",
      " ['_' '_' '_' '_' '_' '_' '_' '_' '_' '_']\n",
      " ['_' '_' '_' '_' '_' '_' '_' '_' '_' '_']\n",
      " ['_' '_' '_' '_' '_' '_' '_' '_' '_' '_']\n",
      " ['_' '_' '_' '_' '_' '_' '_' '_' '_' '_']\n",
      " ['_' '_' '_' '_' '_' '_' '_' '_' '_' '_']]\n"
     ]
    }
   ],
   "source": [
    "tablero = crear_tablero()\n",
    "# print(tablero)\n",
    "\n",
    "barco_1 = [(0,1), (1,1)]\n",
    "barco_2 = [(1,3), (1,4), (1,5), (1,6)]\n",
    "\n",
    "tablero = colocar_barco(barco_1, tablero)\n",
    "tablero = colocar_barco(barco_2, tablero)\n",
    "print(tablero)\n"
   ]
  },
  {
   "cell_type": "code",
   "execution_count": 11,
   "metadata": {},
   "outputs": [
    {
     "name": "stdout",
     "output_type": "stream",
     "text": [
      "Tocado\n",
      "[['_' 'O' '_' '_' '_' '_' '_' '_' '_' '_']\n",
      " ['_' 'X' '_' 'O' 'O' 'O' 'O' '_' '_' '_']\n",
      " ['_' '_' '_' '_' '_' '_' '_' '_' '_' '_']\n",
      " ['_' '_' '_' '_' '_' '_' '_' '_' '_' '_']\n",
      " ['_' '_' '_' '_' '_' '_' '_' '_' '_' '_']\n",
      " ['_' '_' '_' '_' '_' '_' '_' '_' '_' '_']\n",
      " ['_' '_' '_' '_' '_' '_' '_' '_' '_' '_']\n",
      " ['_' '_' '_' '_' '_' '_' '_' '_' '_' '_']\n",
      " ['_' '_' '_' '_' '_' '_' '_' '_' '_' '_']\n",
      " ['_' '_' '_' '_' '_' '_' '_' '_' '_' '_']]\n"
     ]
    }
   ],
   "source": [
    "disparo = (1,1)\n",
    "\n",
    "if tablero[disparo] == \"_\":\n",
    "    print(\"Agua\")\n",
    "    tablero[disparo] = \"A\"\n",
    "elif tablero[disparo] == \"O\":\n",
    "    print(\"Tocado\")\n",
    "    tablero[disparo] = \"X\"\n",
    "else:\n",
    "    print(\"Ya has disparado aquí\")\n",
    "\n",
    "print(tablero)"
   ]
  },
  {
   "cell_type": "code",
   "execution_count": 12,
   "metadata": {},
   "outputs": [],
   "source": [
    "def disparar(casilla, tablero):\n",
    "    if tablero[casilla] == \"_\":\n",
    "        print(\"Agua\")\n",
    "        tablero[casilla] = \"A\"\n",
    "    elif tablero[casilla] == \"O\":\n",
    "        print(\"Tocado\")\n",
    "        tablero[casilla] = \"X\"\n",
    "    else:\n",
    "        print(\"Ya has disparado aquí\")\n",
    "    return tablero"
   ]
  },
  {
   "cell_type": "code",
   "execution_count": 13,
   "metadata": {},
   "outputs": [
    {
     "name": "stdout",
     "output_type": "stream",
     "text": [
      "Agua\n",
      "Agua\n",
      "Tocado\n",
      "[['_' 'O' '_' '_' '_' '_' '_' '_' '_' '_']\n",
      " ['_' 'O' '_' 'O' 'O' 'X' 'O' 'A' '_' '_']\n",
      " ['_' '_' '_' '_' '_' '_' '_' '_' '_' '_']\n",
      " ['_' '_' '_' '_' '_' 'A' '_' '_' '_' '_']\n",
      " ['_' '_' '_' '_' '_' '_' '_' '_' '_' '_']\n",
      " ['_' '_' '_' '_' '_' '_' '_' '_' '_' '_']\n",
      " ['_' '_' '_' '_' '_' '_' '_' '_' '_' '_']\n",
      " ['_' '_' '_' '_' '_' '_' '_' '_' '_' '_']\n",
      " ['_' '_' '_' '_' '_' '_' '_' '_' '_' '_']\n",
      " ['_' '_' '_' '_' '_' '_' '_' '_' '_' '_']]\n"
     ]
    }
   ],
   "source": [
    "tablero = crear_tablero()\n",
    "\n",
    "barco_1 = [(0,1), (1,1)]\n",
    "barco_2 = [(1,3), (1,4), (1,5), (1,6)]\n",
    "\n",
    "tablero = colocar_barco(barco_1, tablero)\n",
    "tablero = colocar_barco(barco_2, tablero)\n",
    "\n",
    "tablero = disparar((3,5), tablero)\n",
    "tablero = disparar((1,7), tablero)\n",
    "tablero = disparar((1,5), tablero)\n",
    "\n",
    "print(tablero)"
   ]
  },
  {
   "cell_type": "code",
   "execution_count": 14,
   "metadata": {},
   "outputs": [],
   "source": [
    "import random"
   ]
  },
  {
   "cell_type": "code",
   "execution_count": 15,
   "metadata": {},
   "outputs": [
    {
     "name": "stdout",
     "output_type": "stream",
     "text": [
      "fila random 4\n",
      "columna random 1\n"
     ]
    }
   ],
   "source": [
    "fila_a = random.randint(0,9)\n",
    "print(\"fila random\", fila_a)\n",
    "columna_a = random.randint(0,9)\n",
    "print(\"columna random\", columna_a)"
   ]
  },
  {
   "cell_type": "code",
   "execution_count": 16,
   "metadata": {},
   "outputs": [
    {
     "name": "stdout",
     "output_type": "stream",
     "text": [
      "E\n"
     ]
    }
   ],
   "source": [
    "orientacion = random.choice([\"S\",\"O\",\"E\",\"N\"])\n",
    "print(orientacion)"
   ]
  },
  {
   "cell_type": "code",
   "execution_count": 17,
   "metadata": {},
   "outputs": [],
   "source": [
    "barco_1 = [(0,1), (1,1)]\n",
    "barco_2 = [(1,3), (1,4), (1,5), (1,6)]"
   ]
  },
  {
   "cell_type": "code",
   "execution_count": 18,
   "metadata": {},
   "outputs": [
    {
     "name": "stdout",
     "output_type": "stream",
     "text": [
      "[(4, 1)]\n"
     ]
    }
   ],
   "source": [
    "barco_aleatorio = []\n",
    "barco_aleatorio.append((fila_a, columna_a))\n",
    "print(barco_aleatorio)"
   ]
  },
  {
   "cell_type": "code",
   "execution_count": 19,
   "metadata": {},
   "outputs": [
    {
     "name": "stdout",
     "output_type": "stream",
     "text": [
      "E\n"
     ]
    }
   ],
   "source": [
    "print(orientacion)"
   ]
  },
  {
   "cell_type": "code",
   "execution_count": 20,
   "metadata": {},
   "outputs": [
    {
     "name": "stdout",
     "output_type": "stream",
     "text": [
      "[(4, 1), (4, 0)]\n"
     ]
    }
   ],
   "source": [
    "columna_a = columna_a - 1\n",
    "barco_aleatorio.append((fila_a, columna_a))\n",
    "print(barco_aleatorio)"
   ]
  },
  {
   "cell_type": "code",
   "execution_count": 21,
   "metadata": {},
   "outputs": [
    {
     "name": "stdout",
     "output_type": "stream",
     "text": [
      "[(0, 1), (1, 1)]\n",
      "[(4, 1), (4, 0)]\n"
     ]
    }
   ],
   "source": [
    "print(barco_1)\n",
    "print(barco_aleatorio)"
   ]
  },
  {
   "cell_type": "code",
   "execution_count": 22,
   "metadata": {},
   "outputs": [
    {
     "name": "stdout",
     "output_type": "stream",
     "text": [
      "[(4, 0), (4, -1), (4, -2), (4, -3)]\n"
     ]
    }
   ],
   "source": [
    "barco_aleatorio = []\n",
    "\n",
    "while len(barco_aleatorio) < 4:\n",
    "\n",
    "    barco_aleatorio.append((fila_a, columna_a))\n",
    "    # Oeste\n",
    "    columna_a = columna_a - 1\n",
    "\n",
    "print(barco_aleatorio)"
   ]
  },
  {
   "cell_type": "code",
   "execution_count": 23,
   "metadata": {},
   "outputs": [],
   "source": [
    "def crear_barco_random(eslora):\n",
    "    fila_a = random.randint(0,9)\n",
    "    # print(\"fila random\", fila_a)\n",
    "    # fila_a = 2\n",
    "    columna_a = random.randint(0,9)\n",
    "    # print(\"columna random\", columna_a)\n",
    "    # columna_a = 8\n",
    "\n",
    "    orientacion = random.choice([\"S\",\"O\",\"E\",\"N\"])\n",
    "    # orientacion = \"O\"\n",
    "\n",
    "    barco = [(fila_a, columna_a)]\n",
    "\n",
    "    while len(barco) < eslora:\n",
    "        # Oeste\n",
    "        columna_a = columna_a - 1\n",
    "        barco.append((fila_a, columna_a))\n",
    "\n",
    "    return barco\n"
   ]
  },
  {
   "cell_type": "code",
   "execution_count": 24,
   "metadata": {},
   "outputs": [
    {
     "name": "stdout",
     "output_type": "stream",
     "text": [
      "[(4, 1), (4, 0), (4, -1), (4, -2)]\n"
     ]
    }
   ],
   "source": [
    "barco_3 = crear_barco_random(4)\n",
    "print(barco_3)"
   ]
  },
  {
   "cell_type": "code",
   "execution_count": 25,
   "metadata": {},
   "outputs": [
    {
     "name": "stdout",
     "output_type": "stream",
     "text": [
      "[(3, 9), (3, 8)]\n"
     ]
    }
   ],
   "source": [
    "barco_4 = crear_barco_random(2)\n",
    "print(barco_4)"
   ]
  },
  {
   "cell_type": "code",
   "execution_count": 26,
   "metadata": {},
   "outputs": [],
   "source": [
    "def crear_barco_random(eslora):\n",
    "    fila_a = random.randint(0,9)\n",
    "    columna_a = random.randint(0,9)\n",
    "\n",
    "    orientacion = random.choice([\"S\",\"O\",\"E\",\"N\"])\n",
    "\n",
    "    barco = [(fila_a, columna_a)]\n",
    "\n",
    "    while len(barco) < eslora:\n",
    "        match orientacion:\n",
    "            case \"O\":\n",
    "                columna_a -= 1 # columna_a = columna_a - 1\n",
    "            case \"E\":\n",
    "                columna_a += 1\n",
    "            case \"S\":\n",
    "                fila_a += 1\n",
    "            case \"N\":\n",
    "                fila_a -= 1\n",
    "        barco.append((fila_a, columna_a))\n",
    "\n",
    "    return barco"
   ]
  },
  {
   "cell_type": "code",
   "execution_count": 27,
   "metadata": {},
   "outputs": [
    {
     "name": "stdout",
     "output_type": "stream",
     "text": [
      "E\n"
     ]
    },
    {
     "ename": "NameError",
     "evalue": "name 'eslora' is not defined",
     "output_type": "error",
     "traceback": [
      "\u001b[1;31m---------------------------------------------------------------------------\u001b[0m",
      "\u001b[1;31mNameError\u001b[0m                                 Traceback (most recent call last)",
      "Cell \u001b[1;32mIn[27], line 6\u001b[0m\n\u001b[0;32m      4\u001b[0m \u001b[38;5;28mprint\u001b[39m(orientacion)\n\u001b[0;32m      5\u001b[0m barco \u001b[38;5;241m=\u001b[39m [(fila_a, columna_a)]\n\u001b[1;32m----> 6\u001b[0m \u001b[38;5;28;01mwhile\u001b[39;00m \u001b[38;5;28mlen\u001b[39m(barco) \u001b[38;5;241m<\u001b[39m \u001b[43meslora\u001b[49m:\n\u001b[0;32m      7\u001b[0m     \u001b[38;5;28;01mmatch\u001b[39;00m orientacion:\n\u001b[0;32m      8\u001b[0m         \u001b[38;5;28;01mcase\u001b[39;00m \u001b[38;5;124m\"\u001b[39m\u001b[38;5;124mO\u001b[39m\u001b[38;5;124m\"\u001b[39m:\n",
      "\u001b[1;31mNameError\u001b[0m: name 'eslora' is not defined"
     ]
    }
   ],
   "source": [
    "\n",
    "fila_a = random.randint(0,9)\n",
    "columna_a = random.randint(0,9)\n",
    "orientacion = random.choice([\"S\",\"O\",\"E\",\"N\"])\n",
    "print(orientacion)\n",
    "barco = [(fila_a, columna_a)]\n",
    "while len(barco) < eslora:\n",
    "    match orientacion:\n",
    "        case \"O\":\n",
    "            columna_a -= 1 # columna_a = columna_a - 1\n",
    "        case \"E\":\n",
    "            columna_a += 1\n",
    "        case \"S\":\n",
    "            fila_a += 1\n",
    "        case \"N\":\n",
    "            fila_a -= 1\n",
    "    barco.append((fila_a, columna_a))\n",
    "print(barco)"
   ]
  },
  {
   "cell_type": "code",
   "execution_count": null,
   "metadata": {},
   "outputs": [],
   "source": [
    "import numpy as np"
   ]
  },
  {
   "cell_type": "code",
   "execution_count": 52,
   "metadata": {},
   "outputs": [
    {
     "name": "stdout",
     "output_type": "stream",
     "text": [
      "[['¨' '¨' '¨' '¨' '¨' '¨' '¨' '¨' '¨' '¨']\n",
      " ['¨' '¨' '¨' '¨' '¨' '¨' '¨' '¨' '¨' '¨']\n",
      " ['¨' '¨' '¨' '¨' '¨' '¨' '¨' '¨' '¨' '¨']\n",
      " ['¨' '¨' '¨' '¨' '¨' '¨' '¨' '¨' '¨' '¨']\n",
      " ['¨' '¨' '¨' '¨' '¨' '¨' '¨' '¨' '¨' '¨']\n",
      " ['¨' '¨' '¨' '¨' '¨' '¨' '¨' '¨' '¨' '¨']\n",
      " ['¨' '¨' '¨' '¨' '¨' '¨' '¨' '¨' '¨' '¨']\n",
      " ['¨' '¨' '¨' '¨' '¨' '¨' '¨' '¨' '¨' '¨']\n",
      " ['¨' '¨' '¨' '¨' '¨' '¨' '¨' '¨' '¨' '¨']\n",
      " ['¨' '¨' '¨' '¨' '¨' '¨' '¨' '¨' '¨' '¨']]\n"
     ]
    }
   ],
   "source": [
    "tablero = np.full((10,10), \"¨\")\n",
    "print(tablero)"
   ]
  },
  {
   "cell_type": "markdown",
   "metadata": {},
   "source": [
    "# bucle bueno"
   ]
  },
  {
   "cell_type": "code",
   "execution_count": 62,
   "metadata": {},
   "outputs": [
    {
     "name": "stdout",
     "output_type": "stream",
     "text": [
      "7 0\n",
      "S\n",
      "O\n",
      "E\n",
      "[(7, 0), (7, 1), (7, 2), (7, 3)]\n"
     ]
    }
   ],
   "source": [
    "eslora = 4\n",
    "fila_a = random.randint(0,9)\n",
    "columna_a = random.randint(0,9)\n",
    "# punto partida\n",
    "fila_inicio = fila_a\n",
    "columna_inicio = columna_a\n",
    "print(fila_a,columna_a)\n",
    "orientacion = random.choice([\"S\",\"O\",\"E\",\"N\"])\n",
    "print(orientacion)\n",
    "barco = [(fila_inicio, columna_inicio)]\n",
    "while len(barco) < eslora:\n",
    "    match orientacion:\n",
    "        case \"O\":\n",
    "            if columna_a - (eslora - 1) >= 0:\n",
    "                columna_inicio -= 1 \n",
    "            else:\n",
    "                orientacion = random.choice([\"S\",\"E\",\"N\"])\n",
    "                print(orientacion)\n",
    "                continue\n",
    "        case \"E\":\n",
    "            if columna_a + (eslora - 1) <= 9:\n",
    "                columna_inicio += 1\n",
    "            else:\n",
    "                orientacion = random.choice([\"S\",\"O\",\"N\"])\n",
    "                print(orientacion)\n",
    "                continue\n",
    "        case \"S\":\n",
    "            if fila_a + (eslora - 1) <= 9:\n",
    "                fila_inicio += 1\n",
    "            else:\n",
    "                orientacion = random.choice([\"O\",\"E\",\"N\"])\n",
    "                print(orientacion)\n",
    "                continue\n",
    "        case \"N\":\n",
    "            if fila_a - (eslora - 1) >= 0:\n",
    "                fila_inicio -= 1\n",
    "            else:\n",
    "                orientacion = random.choice([\"S\",\"O\",\"E\"])\n",
    "                print(orientacion)\n",
    "                continue\n",
    "    barco.append((fila_inicio, columna_inicio))\n",
    "    \n",
    "print(barco)"
   ]
  },
  {
   "cell_type": "code",
   "execution_count": 54,
   "metadata": {},
   "outputs": [],
   "source": [
    "lista_barcos = []"
   ]
  },
  {
   "cell_type": "code",
   "execution_count": 63,
   "metadata": {},
   "outputs": [
    {
     "name": "stdout",
     "output_type": "stream",
     "text": [
      "[[(1, 2), (2, 2), (3, 2), (4, 2)], [(8, 6), (8, 7), (8, 8), (8, 9)], [(0, 0), (0, 1), (0, 2), (0, 3)], [(9, 0), (9, 1), (9, 2), (9, 3)], [(7, 0), (7, 1), (7, 2), (7, 3)]]\n"
     ]
    }
   ],
   "source": [
    "\n",
    "for x in barco:\n",
    "    if tablero[x] != \"O\":\n",
    "       continue \n",
    "    else:\n",
    "        del(barco)\n",
    "lista_barcos.append(barco)\n",
    "\n",
    "print(lista_barcos)"
   ]
  },
  {
   "cell_type": "code",
   "execution_count": null,
   "metadata": {},
   "outputs": [],
   "source": [
    "barco_1 = np.array([(1,4), (1,1)])\n",
    "barco_2 = np.array([(1,3), (1,4), (1,5), (1,6)])\n"
   ]
  },
  {
   "cell_type": "code",
   "execution_count": null,
   "metadata": {},
   "outputs": [
    {
     "name": "stdout",
     "output_type": "stream",
     "text": [
      "Agua\n",
      "Agua\n",
      "Tocado\n",
      "[['_' 'O' '_' '_' '_' '_' '_' '_' '_' '_']\n",
      " ['_' 'O' '_' 'O' 'O' 'X' 'O' 'A' '_' '_']\n",
      " ['_' '_' '_' '_' '_' '_' '_' '_' '_' '_']\n",
      " ['_' '_' '_' '_' '_' 'A' '_' '_' '_' '_']\n",
      " ['_' '_' '_' '_' '_' '_' '_' '_' '_' '_']\n",
      " ['_' '_' '_' '_' '_' '_' '_' '_' '_' '_']\n",
      " ['_' '_' '_' '_' '_' '_' '_' '_' '_' '_']\n",
      " ['_' '_' '_' '_' '_' '_' '_' '_' '_' '_']\n",
      " ['_' '_' '_' '_' '_' '_' '_' '_' '_' '_']\n",
      " ['_' '_' '_' '_' '_' '_' '_' '_' '_' '_']]\n"
     ]
    }
   ],
   "source": [
    "tablero = crear_tablero()\n",
    "\n",
    "barco_1 = [(0,1), (1,1)]\n",
    "barco_2 = [(1,3), (1,4), (1,5), (1,6)]\n",
    "\n",
    "tablero = colocar_barco(barco_1, tablero)\n",
    "tablero = colocar_barco(barco_2, tablero)\n",
    "\n",
    "tablero = disparar((3,5), tablero)\n",
    "tablero = disparar((1,7), tablero)\n",
    "tablero = disparar((1,5), tablero)\n",
    "\n",
    "print(tablero)"
   ]
  },
  {
   "cell_type": "code",
   "execution_count": null,
   "metadata": {},
   "outputs": [
    {
     "name": "stdout",
     "output_type": "stream",
     "text": [
      "[['_' 'O' '_' '_' '_' '_' '_' '_' '_' '_']\n",
      " ['_' 'O' '_' 'O' 'O' 'X' 'O' 'A' '_' '_']\n",
      " ['_' '_' '_' '_' '_' '_' '_' '_' '_' '_']\n",
      " ['_' '_' '_' '_' '_' 'A' '_' '_' '_' '_']\n",
      " ['_' '_' '_' '_' '_' '_' '_' '_' '_' '_']\n",
      " ['_' '_' '_' '_' '_' '_' '_' '_' '_' '_']\n",
      " ['_' '_' '_' '_' '_' '_' '_' '_' '_' '_']\n",
      " ['_' '_' '_' '_' '_' '_' '_' '_' '_' '_']\n",
      " ['_' '_' '_' '_' '_' '_' '_' '_' '_' '_']\n",
      " ['_' '_' '_' '_' '_' '_' '_' '_' '_' '_']]\n"
     ]
    }
   ],
   "source": [
    "print(tablero)"
   ]
  },
  {
   "cell_type": "code",
   "execution_count": null,
   "metadata": {},
   "outputs": [
    {
     "data": {
      "text/plain": [
       "[(6, 5), (6, 4), (6, 3), (6, 2)]"
      ]
     },
     "execution_count": 33,
     "metadata": {},
     "output_type": "execute_result"
    }
   ],
   "source": [
    "crear_barco_random(4)"
   ]
  },
  {
   "cell_type": "code",
   "execution_count": null,
   "metadata": {},
   "outputs": [
    {
     "name": "stdout",
     "output_type": "stream",
     "text": [
      "Agua\n",
      "Agua\n",
      "Tocado\n",
      "[['_' 'O' '_' '_' '_' '_' '_' '_' '_' '_']\n",
      " ['_' 'O' '_' 'O' 'O' 'X' 'O' 'A' '_' '_']\n",
      " ['_' '_' '_' '_' '_' '_' '_' '_' '_' '_']\n",
      " ['_' '_' '_' '_' '_' 'A' '_' '_' '_' '_']\n",
      " ['_' '_' '_' '_' 'O' '_' '_' '_' '_' '_']\n",
      " ['_' '_' '_' '_' 'O' '_' '_' '_' '_' '_']\n",
      " ['_' '_' '_' '_' 'O' '_' '_' '_' '_' '_']\n",
      " ['_' '_' '_' '_' '_' '_' '_' '_' '_' '_']\n",
      " ['_' '_' '_' '_' 'O' 'O' 'O' 'O' '_' '_']\n",
      " ['_' '_' '_' '_' '_' '_' '_' '_' '_' '_']]\n"
     ]
    }
   ],
   "source": [
    "tablero = crear_tablero()\n",
    "\n",
    "barco_1 = [(0,1), (1,1)]\n",
    "barco_2 = [(1,3), (1,4), (1,5), (1,6)]\n",
    "barco_3 = crear_barco_random(3)\n",
    "barco_4 = crear_barco_random(4)\n",
    "\n",
    "\n",
    "tablero = colocar_barco(barco_1, tablero)\n",
    "tablero = colocar_barco(barco_2, tablero)\n",
    "tablero = colocar_barco(barco_3, tablero)\n",
    "tablero = colocar_barco(barco_4, tablero)\n",
    "\n",
    "tablero = disparar((3,5), tablero)\n",
    "tablero = disparar((1,7), tablero)\n",
    "tablero = disparar((1,5), tablero)\n",
    "\n",
    "print(tablero)"
   ]
  },
  {
   "cell_type": "code",
   "execution_count": null,
   "metadata": {},
   "outputs": [
    {
     "name": "stdout",
     "output_type": "stream",
     "text": [
      "Agua\n",
      "Tocado\n",
      "Agua\n",
      "[['_' '_' '_' '_' '_' '_' '_' '_' '_' '_']\n",
      " ['_' '_' '_' '_' '_' 'A' 'O' 'X' '_' '_']\n",
      " ['_' '_' '_' '_' '_' '_' '_' '_' 'O' '_']\n",
      " ['_' '_' '_' '_' '_' 'A' '_' '_' 'O' '_']\n",
      " ['_' '_' '_' '_' '_' '_' '_' '_' 'O' '_']\n",
      " ['_' '_' '_' '_' '_' '_' '_' '_' 'O' '_']\n",
      " ['_' '_' '_' '_' '_' '_' '_' '_' '_' '_']\n",
      " ['_' 'O' '_' '_' '_' '_' '_' '_' '_' '_']\n",
      " ['_' 'O' '_' '_' '_' '_' 'O' 'O' 'O' 'O']\n",
      " ['_' 'O' '_' '_' '_' '_' '_' '_' '_' '_']]\n"
     ]
    }
   ],
   "source": [
    "tablero = crear_tablero()\n",
    "\n",
    "# barco_1 = [(0,1), (1,1)]\n",
    "# barco_2 = [(1,3), (1,4), (1,5), (1,6)]\n",
    "# barco_3 = crear_barco_random(3)\n",
    "# barco_4 = crear_barco_random(4)\n",
    "\n",
    "barcos = [crear_barco_random(2), crear_barco_random(4), crear_barco_random(3), crear_barco_random(4)]\n",
    "\n",
    "for barco in barcos:\n",
    "    tablero = colocar_barco(barco, tablero)\n",
    "\n",
    "# tablero = colocar_barco(barco_1, tablero)\n",
    "# tablero = colocar_barco(barco_2, tablero)\n",
    "# tablero = colocar_barco(barco_3, tablero)\n",
    "# tablero = colocar_barco(barco_4, tablero)\n",
    "\n",
    "tablero = disparar((3,5), tablero)\n",
    "tablero = disparar((1,7), tablero)\n",
    "tablero = disparar((1,5), tablero)\n",
    "\n",
    "print(tablero)"
   ]
  },
  {
   "cell_type": "code",
   "execution_count": null,
   "metadata": {},
   "outputs": [],
   "source": [
    "def colocar_barcos(barcos, tablero):\n",
    "    for barco in barcos:\n",
    "        tablero = colocar_barco(barco, tablero)\n",
    "    return tablero"
   ]
  },
  {
   "cell_type": "code",
   "execution_count": null,
   "metadata": {},
   "outputs": [],
   "source": [
    "# class Barco:\n",
    "\n",
    "\n",
    "# class Tablero:"
   ]
  }
 ],
 "metadata": {
  "kernelspec": {
   "display_name": "Python 3.7.4 64-bit",
   "language": "python",
   "name": "python3"
  },
  "language_info": {
   "codemirror_mode": {
    "name": "ipython",
    "version": 3
   },
   "file_extension": ".py",
   "mimetype": "text/x-python",
   "name": "python",
   "nbconvert_exporter": "python",
   "pygments_lexer": "ipython3",
   "version": "3.12.1"
  },
  "orig_nbformat": 4,
  "vscode": {
   "interpreter": {
    "hash": "90139cb9a825bf3d63f6f6704e828dbd1ff7edbd4d0c6e906a71235d6efc74af"
   }
  }
 },
 "nbformat": 4,
 "nbformat_minor": 2
}
